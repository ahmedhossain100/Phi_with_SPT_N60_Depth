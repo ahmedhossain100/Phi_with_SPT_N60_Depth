{
 "cells": [
  {
   "cell_type": "code",
   "execution_count": 1,
   "metadata": {},
   "outputs": [],
   "source": [
    "import pandas as pd\n",
    "import numpy as np\n",
    "import matplotlib.pyplot as plt\n",
    "import seaborn as sns\n",
    "from scipy.stats import kurtosis, skew\n",
    "%matplotlib inline\n",
    "sns.set()\n",
    "import matplotlib as mpl\n",
    "mpl.style.use('classic')\n",
    "params = {'mathtext.default': 'regular' } \n",
    "plt.rcParams.update(params)\n",
    "mpl.rcParams['font.size'] = 8"
   ]
  },
  {
   "cell_type": "code",
   "execution_count": 2,
   "metadata": {},
   "outputs": [],
   "source": [
    "df = pd.read_excel(\"Data.xlsx\", sheet_name = \"Rahi bhai\")"
   ]
  },
  {
   "cell_type": "code",
   "execution_count": null,
   "metadata": {},
   "outputs": [],
   "source": []
  },
  {
   "cell_type": "code",
   "execution_count": 3,
   "metadata": {},
   "outputs": [
    {
     "data": {
      "text/html": [
       "<div>\n",
       "<style scoped>\n",
       "    .dataframe tbody tr th:only-of-type {\n",
       "        vertical-align: middle;\n",
       "    }\n",
       "\n",
       "    .dataframe tbody tr th {\n",
       "        vertical-align: top;\n",
       "    }\n",
       "\n",
       "    .dataframe thead th {\n",
       "        text-align: right;\n",
       "    }\n",
       "</style>\n",
       "<table border=\"1\" class=\"dataframe\">\n",
       "  <thead>\n",
       "    <tr style=\"text-align: right;\">\n",
       "      <th></th>\n",
       "      <th>Borehole</th>\n",
       "      <th>Depth</th>\n",
       "      <th>Phi</th>\n",
       "      <th>C</th>\n",
       "      <th>SPT</th>\n",
       "      <th>N60</th>\n",
       "    </tr>\n",
       "  </thead>\n",
       "  <tbody>\n",
       "    <tr>\n",
       "      <th>0</th>\n",
       "      <td>BH1</td>\n",
       "      <td>22.5</td>\n",
       "      <td>38.0</td>\n",
       "      <td>6.3452</td>\n",
       "      <td>50</td>\n",
       "      <td>30.0</td>\n",
       "    </tr>\n",
       "    <tr>\n",
       "      <th>1</th>\n",
       "      <td>BH2</td>\n",
       "      <td>28.5</td>\n",
       "      <td>37.5</td>\n",
       "      <td>3.8679</td>\n",
       "      <td>50</td>\n",
       "      <td>30.0</td>\n",
       "    </tr>\n",
       "    <tr>\n",
       "      <th>2</th>\n",
       "      <td>BH3</td>\n",
       "      <td>28.5</td>\n",
       "      <td>38.0</td>\n",
       "      <td>2.2164</td>\n",
       "      <td>50</td>\n",
       "      <td>30.0</td>\n",
       "    </tr>\n",
       "    <tr>\n",
       "      <th>3</th>\n",
       "      <td>BH4</td>\n",
       "      <td>30.0</td>\n",
       "      <td>38.0</td>\n",
       "      <td>7.9967</td>\n",
       "      <td>50</td>\n",
       "      <td>30.0</td>\n",
       "    </tr>\n",
       "    <tr>\n",
       "      <th>4</th>\n",
       "      <td>NaN</td>\n",
       "      <td>16.5</td>\n",
       "      <td>33.0</td>\n",
       "      <td>4.6936</td>\n",
       "      <td>50</td>\n",
       "      <td>30.0</td>\n",
       "    </tr>\n",
       "  </tbody>\n",
       "</table>\n",
       "</div>"
      ],
      "text/plain": [
       "  Borehole  Depth   Phi       C  SPT   N60\n",
       "0      BH1   22.5  38.0  6.3452   50  30.0\n",
       "1      BH2   28.5  37.5  3.8679   50  30.0\n",
       "2      BH3   28.5  38.0  2.2164   50  30.0\n",
       "3      BH4   30.0  38.0  7.9967   50  30.0\n",
       "4      NaN   16.5  33.0  4.6936   50  30.0"
      ]
     },
     "execution_count": 3,
     "metadata": {},
     "output_type": "execute_result"
    }
   ],
   "source": [
    "df.columns = [\"Borehole\", \"Depth\", \"Phi\", \"C\", \"SPT\", \"N60\"]\n",
    "df.head()"
   ]
  },
  {
   "cell_type": "code",
   "execution_count": 4,
   "metadata": {},
   "outputs": [],
   "source": [
    "df.drop(\"Borehole\",axis=1,inplace= True)"
   ]
  },
  {
   "cell_type": "code",
   "execution_count": 5,
   "metadata": {},
   "outputs": [
    {
     "data": {
      "text/html": [
       "<div>\n",
       "<style scoped>\n",
       "    .dataframe tbody tr th:only-of-type {\n",
       "        vertical-align: middle;\n",
       "    }\n",
       "\n",
       "    .dataframe tbody tr th {\n",
       "        vertical-align: top;\n",
       "    }\n",
       "\n",
       "    .dataframe thead th {\n",
       "        text-align: right;\n",
       "    }\n",
       "</style>\n",
       "<table border=\"1\" class=\"dataframe\">\n",
       "  <thead>\n",
       "    <tr style=\"text-align: right;\">\n",
       "      <th></th>\n",
       "      <th>Depth</th>\n",
       "      <th>Phi</th>\n",
       "      <th>C</th>\n",
       "      <th>SPT</th>\n",
       "      <th>N60</th>\n",
       "    </tr>\n",
       "  </thead>\n",
       "  <tbody>\n",
       "    <tr>\n",
       "      <th>0</th>\n",
       "      <td>22.5</td>\n",
       "      <td>38.0</td>\n",
       "      <td>6.3452</td>\n",
       "      <td>50</td>\n",
       "      <td>30.0</td>\n",
       "    </tr>\n",
       "    <tr>\n",
       "      <th>1</th>\n",
       "      <td>28.5</td>\n",
       "      <td>37.5</td>\n",
       "      <td>3.8679</td>\n",
       "      <td>50</td>\n",
       "      <td>30.0</td>\n",
       "    </tr>\n",
       "    <tr>\n",
       "      <th>2</th>\n",
       "      <td>28.5</td>\n",
       "      <td>38.0</td>\n",
       "      <td>2.2164</td>\n",
       "      <td>50</td>\n",
       "      <td>30.0</td>\n",
       "    </tr>\n",
       "    <tr>\n",
       "      <th>3</th>\n",
       "      <td>30.0</td>\n",
       "      <td>38.0</td>\n",
       "      <td>7.9967</td>\n",
       "      <td>50</td>\n",
       "      <td>30.0</td>\n",
       "    </tr>\n",
       "    <tr>\n",
       "      <th>4</th>\n",
       "      <td>16.5</td>\n",
       "      <td>33.0</td>\n",
       "      <td>4.6936</td>\n",
       "      <td>50</td>\n",
       "      <td>30.0</td>\n",
       "    </tr>\n",
       "  </tbody>\n",
       "</table>\n",
       "</div>"
      ],
      "text/plain": [
       "   Depth   Phi       C  SPT   N60\n",
       "0   22.5  38.0  6.3452   50  30.0\n",
       "1   28.5  37.5  3.8679   50  30.0\n",
       "2   28.5  38.0  2.2164   50  30.0\n",
       "3   30.0  38.0  7.9967   50  30.0\n",
       "4   16.5  33.0  4.6936   50  30.0"
      ]
     },
     "execution_count": 5,
     "metadata": {},
     "output_type": "execute_result"
    }
   ],
   "source": [
    "df.head()"
   ]
  },
  {
   "cell_type": "code",
   "execution_count": 6,
   "metadata": {},
   "outputs": [
    {
     "data": {
      "text/plain": [
       "[Text(0, 0.5, 'Frequency (%)'),\n",
       " Text(0.5, 0, 'Angle of Internal Friction (degree)')]"
      ]
     },
     "execution_count": 6,
     "metadata": {},
     "output_type": "execute_result"
    },
    {
     "data": {
      "image/png": "[encoded data removed]",
      "text/plain": [
       "<Figure size 288x200 with 1 Axes>"
      ]
     },
     "metadata": {},
     "output_type": "display_data"
    }
   ],
   "source": [
    "fig, ax = plt.subplots()\n",
    "fig.set_size_inches(3.6,2.5)\n",
    "plt.hist(df[\"Phi\"],weights = np.ones(len(df[\"Phi\"])) / len(df[\"Phi\"]),color = \"grey\", bins = 20)\n",
    "fig.patch.set_facecolor(\"white\")\n",
    "ax.set(ylabel = \"Frequency (%)\", xlabel = \"Angle of Internal Friction (degree)\")\n",
    "#fig.savefig(\"hist_phi.jpg\", dpi = 600, transparent=True, bbox_inches=\"tight\")"
   ]
  },
  {
   "cell_type": "code",
   "execution_count": 7,
   "metadata": {},
   "outputs": [
    {
     "data": {
      "text/plain": [
       "[Text(0, 0.5, 'Frequency (%)'), Text(0.5, 0, '$SPT-N_{60}$')]"
      ]
     },
     "execution_count": 7,
     "metadata": {},
     "output_type": "execute_result"
    },
    {
     "data": {
      "image/png": "[encoded data removed]",
      "text/plain": [
       "<Figure size 288x200 with 1 Axes>"
      ]
     },
     "metadata": {},
     "output_type": "display_data"
    }
   ],
   "source": [
    "fig, ax = plt.subplots()\n",
    "fig.set_size_inches(3.6,2.5)\n",
    "plt.hist(df[\"N60\"],weights = np.ones(len(df[\"N60\"])) / len(df[\"N60\"]),color = \"grey\", bins = 20)\n",
    "fig.patch.set_facecolor(\"white\")\n",
    "ax.set(ylabel = \"Frequency (%)\", xlabel = \"$SPT-N_{60}$\")\n",
    "#fig.savefig(\"hist_N60.jpg\", dpi = 600, transparent=True, bbox_inches=\"tight\")"
   ]
  },
  {
   "cell_type": "code",
   "execution_count": 8,
   "metadata": {},
   "outputs": [
    {
     "data": {
      "text/plain": [
       "[Text(0, 0.5, 'Frequency (%)'), Text(0.5, 0, 'Depth of Sample Collection (m)')]"
      ]
     },
     "execution_count": 8,
     "metadata": {},
     "output_type": "execute_result"
    },
    {
     "data": {
      "image/png": "[encoded data removed]",
      "text/plain": [
       "<Figure size 288x200 with 1 Axes>"
      ]
     },
     "metadata": {},
     "output_type": "display_data"
    }
   ],
   "source": [
    "fig, ax = plt.subplots()\n",
    "fig.set_size_inches(3.6,2.5)\n",
    "plt.hist(df[\"Depth\"],weights = np.ones(len(df[\"Depth\"])) / len(df[\"Depth\"]),color = \"grey\", bins = 20)\n",
    "fig.patch.set_facecolor(\"white\")\n",
    "ax.set(ylabel = \"Frequency (%)\", xlabel = \"Depth of Sample Collection (m)\")\n",
    "#fig.savefig(\"hist_depth.jpg\", dpi = 600, transparent=True, bbox_inches=\"tight\")"
   ]
  },
  {
   "cell_type": "code",
   "execution_count": 9,
   "metadata": {},
   "outputs": [
    {
     "data": {
      "text/html": [
       "<div>\n",
       "<style scoped>\n",
       "    .dataframe tbody tr th:only-of-type {\n",
       "        vertical-align: middle;\n",
       "    }\n",
       "\n",
       "    .dataframe tbody tr th {\n",
       "        vertical-align: top;\n",
       "    }\n",
       "\n",
       "    .dataframe thead th {\n",
       "        text-align: right;\n",
       "    }\n",
       "</style>\n",
       "<table border=\"1\" class=\"dataframe\">\n",
       "  <thead>\n",
       "    <tr style=\"text-align: right;\">\n",
       "      <th></th>\n",
       "      <th>count</th>\n",
       "      <th>mean</th>\n",
       "      <th>std</th>\n",
       "      <th>min</th>\n",
       "      <th>25%</th>\n",
       "      <th>50%</th>\n",
       "      <th>75%</th>\n",
       "      <th>max</th>\n",
       "    </tr>\n",
       "  </thead>\n",
       "  <tbody>\n",
       "    <tr>\n",
       "      <th>Depth</th>\n",
       "      <td>194.0</td>\n",
       "      <td>14.103093</td>\n",
       "      <td>8.230469</td>\n",
       "      <td>1.5</td>\n",
       "      <td>9.0</td>\n",
       "      <td>12.0</td>\n",
       "      <td>15.000</td>\n",
       "      <td>42.0</td>\n",
       "    </tr>\n",
       "    <tr>\n",
       "      <th>Phi</th>\n",
       "      <td>194.0</td>\n",
       "      <td>32.324742</td>\n",
       "      <td>3.385079</td>\n",
       "      <td>27.0</td>\n",
       "      <td>30.0</td>\n",
       "      <td>31.5</td>\n",
       "      <td>34.375</td>\n",
       "      <td>40.0</td>\n",
       "    </tr>\n",
       "    <tr>\n",
       "      <th>N60</th>\n",
       "      <td>194.0</td>\n",
       "      <td>13.629897</td>\n",
       "      <td>8.986353</td>\n",
       "      <td>1.2</td>\n",
       "      <td>6.6</td>\n",
       "      <td>11.4</td>\n",
       "      <td>17.700</td>\n",
       "      <td>30.0</td>\n",
       "    </tr>\n",
       "  </tbody>\n",
       "</table>\n",
       "</div>"
      ],
      "text/plain": [
       "       count       mean       std   min   25%   50%     75%   max\n",
       "Depth  194.0  14.103093  8.230469   1.5   9.0  12.0  15.000  42.0\n",
       "Phi    194.0  32.324742  3.385079  27.0  30.0  31.5  34.375  40.0\n",
       "N60    194.0  13.629897  8.986353   1.2   6.6  11.4  17.700  30.0"
      ]
     },
     "execution_count": 9,
     "metadata": {},
     "output_type": "execute_result"
    }
   ],
   "source": [
    "df.drop([\"C\", \"SPT\"], axis= 1).describe().transpose()"
   ]
  },
  {
   "cell_type": "code",
   "execution_count": 10,
   "metadata": {},
   "outputs": [
    {
     "name": "stdout",
     "output_type": "stream",
     "text": [
      "skewness of N60 is 0.74088638029011\n",
      "Kurtosis of N60 is -0.6732100653595232\n",
      "\n",
      "skewness of Depth is 1.1110704743254278\n",
      "kurtosis of Depth is 0.928878836300917\n",
      "\n",
      "skewness of Phi is 0.5996865331321365\n",
      "kurtosis of Phi is -0.741127503742181\n"
     ]
    }
   ],
   "source": [
    "print(\"skewness of N60 is {}\" .format(skew(df[\"N60\"])))\n",
    "print(\"Kurtosis of N60 is {}\" .format(kurtosis(df[\"N60\"])))\n",
    "print(\"\\nskewness of Depth is {}\" .format(skew(df[\"Depth\"])))\n",
    "print(\"kurtosis of Depth is {}\" .format(kurtosis(df[\"Depth\"])))\n",
    "print(\"\\nskewness of Phi is {}\" .format(skew(df[\"Phi\"])))\n",
    "print(\"kurtosis of Phi is {}\" .format(kurtosis(df[\"Phi\"])))\n"
   ]
  },
  {
   "cell_type": "code",
   "execution_count": 11,
   "metadata": {},
   "outputs": [
    {
     "data": {
      "text/plain": [
       "Depth    0\n",
       "Phi      0\n",
       "C        0\n",
       "SPT      0\n",
       "N60      0\n",
       "dtype: int64"
      ]
     },
     "execution_count": 11,
     "metadata": {},
     "output_type": "execute_result"
    }
   ],
   "source": [
    "df.isnull().sum()"
   ]
  },
  {
   "cell_type": "code",
   "execution_count": 12,
   "metadata": {},
   "outputs": [],
   "source": [
    "X = df.drop(columns = [\"Phi\", \"C\",\"SPT\"], axis = 1)\n",
    "y = df[\"Phi\"]\n"
   ]
  },
  {
   "cell_type": "code",
   "execution_count": 13,
   "metadata": {},
   "outputs": [
    {
     "data": {
      "text/plain": [
       "[Text(0, 0.5, 'Angle of Internal Friction (degree)'),\n",
       " Text(0.5, 0, '$SPT-N_{60}$')]"
      ]
     },
     "execution_count": 13,
     "metadata": {},
     "output_type": "execute_result"
    },
    {
     "data": {
      "image/png": "[encoded data removed]",
      "text/plain": [
       "<Figure size 288x200 with 1 Axes>"
      ]
     },
     "metadata": {},
     "output_type": "display_data"
    }
   ],
   "source": [
    "fig, ax = plt.subplots()\n",
    "fig.set_size_inches(3.6,2.5)\n",
    "ax.scatter(df[\"N60\"], df[\"Phi\"], color = \"k\")\n",
    "fig.patch.set_facecolor(\"white\")\n",
    "ax.set(ylabel = \"Angle of Internal Friction (degree)\", xlabel = \"$SPT-N_{60}$\")\n",
    "#fig.savefig(\"Phi vs SPT-N60.jpg\", dpi = 600, transparent=True, bbox_inches=\"tight\")"
   ]
  },
  {
   "cell_type": "code",
   "execution_count": 14,
   "metadata": {},
   "outputs": [
    {
     "data": {
      "text/plain": [
       "[Text(0, 0.5, 'Angle of Internal Friction (degree)'),\n",
       " Text(0.5, 0, 'Depth of Sample Collction (m)')]"
      ]
     },
     "execution_count": 14,
     "metadata": {},
     "output_type": "execute_result"
    },
    {
     "data": {
      "image/png": "[encoded data removed]",
      "text/plain": [
       "<Figure size 288x200 with 1 Axes>"
      ]
     },
     "metadata": {},
     "output_type": "display_data"
    }
   ],
   "source": [
    "fig, ax = plt.subplots()\n",
    "fig.set_size_inches(3.6,2.5)\n",
    "ax.scatter(df[\"Depth\"], df[\"Phi\"], color = \"k\")\n",
    "fig.patch.set_facecolor(\"white\")\n",
    "ax.set(ylabel = \"Angle of Internal Friction (degree)\", xlabel = \"Depth of Sample Collction (m)\")\n",
    "#fig.savefig(\"Phi vs depth.jpg\", dpi = 600, transparent=True, bbox_inches=\"tight\")"
   ]
  },
  {
   "cell_type": "code",
   "execution_count": 15,
   "metadata": {},
   "outputs": [],
   "source": [
    "from sklearn.model_selection import train_test_split\n",
    "from sklearn.linear_model import LinearRegression\n",
    "from sklearn.preprocessing import MinMaxScaler\n",
    "from sklearn.model_selection import cross_val_score\n",
    "from sklearn.metrics import mean_squared_error as MSE\n",
    "from sklearn.metrics import mean_absolute_error as MAE\n",
    "from sklearn.metrics import r2_score"
   ]
  },
  {
   "cell_type": "code",
   "execution_count": 16,
   "metadata": {},
   "outputs": [],
   "source": [
    "X_train, X_test, y_train, y_test = train_test_split(X, y, test_size = 0.3, random_state = 42)"
   ]
  },
  {
   "cell_type": "code",
   "execution_count": 17,
   "metadata": {},
   "outputs": [
    {
     "data": {
      "text/html": [
       "<div>\n",
       "<style scoped>\n",
       "    .dataframe tbody tr th:only-of-type {\n",
       "        vertical-align: middle;\n",
       "    }\n",
       "\n",
       "    .dataframe tbody tr th {\n",
       "        vertical-align: top;\n",
       "    }\n",
       "\n",
       "    .dataframe thead th {\n",
       "        text-align: right;\n",
       "    }\n",
       "</style>\n",
       "<table border=\"1\" class=\"dataframe\">\n",
       "  <thead>\n",
       "    <tr style=\"text-align: right;\">\n",
       "      <th></th>\n",
       "      <th>Depth</th>\n",
       "      <th>N60</th>\n",
       "    </tr>\n",
       "  </thead>\n",
       "  <tbody>\n",
       "    <tr>\n",
       "      <th>38</th>\n",
       "      <td>37.5</td>\n",
       "      <td>22.8</td>\n",
       "    </tr>\n",
       "    <tr>\n",
       "      <th>31</th>\n",
       "      <td>22.5</td>\n",
       "      <td>28.8</td>\n",
       "    </tr>\n",
       "    <tr>\n",
       "      <th>173</th>\n",
       "      <td>9.0</td>\n",
       "      <td>3.6</td>\n",
       "    </tr>\n",
       "    <tr>\n",
       "      <th>12</th>\n",
       "      <td>28.5</td>\n",
       "      <td>30.0</td>\n",
       "    </tr>\n",
       "    <tr>\n",
       "      <th>109</th>\n",
       "      <td>7.5</td>\n",
       "      <td>10.2</td>\n",
       "    </tr>\n",
       "    <tr>\n",
       "      <th>...</th>\n",
       "      <td>...</td>\n",
       "      <td>...</td>\n",
       "    </tr>\n",
       "    <tr>\n",
       "      <th>106</th>\n",
       "      <td>7.5</td>\n",
       "      <td>10.8</td>\n",
       "    </tr>\n",
       "    <tr>\n",
       "      <th>14</th>\n",
       "      <td>27.0</td>\n",
       "      <td>30.0</td>\n",
       "    </tr>\n",
       "    <tr>\n",
       "      <th>92</th>\n",
       "      <td>13.5</td>\n",
       "      <td>11.4</td>\n",
       "    </tr>\n",
       "    <tr>\n",
       "      <th>179</th>\n",
       "      <td>6.0</td>\n",
       "      <td>3.0</td>\n",
       "    </tr>\n",
       "    <tr>\n",
       "      <th>102</th>\n",
       "      <td>6.0</td>\n",
       "      <td>10.8</td>\n",
       "    </tr>\n",
       "  </tbody>\n",
       "</table>\n",
       "<p>135 rows × 2 columns</p>\n",
       "</div>"
      ],
      "text/plain": [
       "     Depth   N60\n",
       "38    37.5  22.8\n",
       "31    22.5  28.8\n",
       "173    9.0   3.6\n",
       "12    28.5  30.0\n",
       "109    7.5  10.2\n",
       "..     ...   ...\n",
       "106    7.5  10.8\n",
       "14    27.0  30.0\n",
       "92    13.5  11.4\n",
       "179    6.0   3.0\n",
       "102    6.0  10.8\n",
       "\n",
       "[135 rows x 2 columns]"
      ]
     },
     "execution_count": 17,
     "metadata": {},
     "output_type": "execute_result"
    }
   ],
   "source": [
    "X_train"
   ]
  },
  {
   "cell_type": "code",
   "execution_count": 18,
   "metadata": {},
   "outputs": [
    {
     "data": {
      "image/png": "[encoded data removed]",
      "text/plain": [
       "<Figure size 640x480 with 1 Axes>"
      ]
     },
     "metadata": {},
     "output_type": "display_data"
    },
    {
     "data": {
      "image/png": "[encoded data removed]",
      "text/plain": [
       "<Figure size 640x480 with 1 Axes>"
      ]
     },
     "metadata": {},
     "output_type": "display_data"
    }
   ],
   "source": [
    "def train_test_check(y_train, y_test):\n",
    "    y_train.hist()\n",
    "    plt.show()\n",
    "    \n",
    "    y_test.hist()\n",
    "    plt.show()\n",
    "    \n",
    "train_test_check(y_train,y_test)"
   ]
  },
  {
   "cell_type": "code",
   "execution_count": null,
   "metadata": {},
   "outputs": [],
   "source": []
  },
  {
   "cell_type": "code",
   "execution_count": null,
   "metadata": {},
   "outputs": [],
   "source": []
  },
  {
   "cell_type": "code",
   "execution_count": null,
   "metadata": {},
   "outputs": [],
   "source": []
  },
  {
   "cell_type": "code",
   "execution_count": 19,
   "metadata": {},
   "outputs": [
    {
     "name": "stdout",
     "output_type": "stream",
     "text": [
      "Training Accuracy of the Linear Regression model is 0.9181\n",
      "Testing Accuracy of the Linear Regression model is 0.8912\n",
      "\n",
      "RMSE_training of the Linear Regression model is 0.9699\n",
      "RMSE_testing of the Linear Regression model is 1.1035\n",
      "\n",
      "MAE_training of the Linear Regression model is 0.6007\n",
      "MAE_testing of the Linear Regression model is 0.6548\n"
     ]
    },
    {
     "data": {
      "image/png": "[encoded data removed]",
      "text/plain": [
       "<Figure size 640x480 with 1 Axes>"
      ]
     },
     "metadata": {},
     "output_type": "display_data"
    },
    {
     "data": {
      "image/png": "[encoded data removed]",
      "text/plain": [
       "<Figure size 640x480 with 1 Axes>"
      ]
     },
     "metadata": {},
     "output_type": "display_data"
    },
    {
     "name": "stdout",
     "output_type": "stream",
     "text": [
      "\n",
      "Coefficient of depth is 0.0123 and Coeffiecient of SPT-N60 is 0.3443\n",
      "\n",
      "Intercept is 27.4001\n"
     ]
    }
   ],
   "source": [
    "def Linear_reg(X_train,X_test,y_train,y_test):\n",
    "    \n",
    "    lr = LinearRegression()\n",
    "    lr.fit(X_train, y_train)\n",
    "    ypred_lr_train = lr.predict(X_train)\n",
    "    ypred_lr_test = lr.predict(X_test)\n",
    "    \n",
    "    train_accuracy = r2_score(y_train, ypred_lr_train)\n",
    "    test_accuracy = r2_score(y_test,ypred_lr_test)\n",
    "    \n",
    "    rmse_train = MSE(y_train,ypred_lr_train)**0.5\n",
    "    rmse_test = MSE(y_test,ypred_lr_test)**0.5\n",
    "    \n",
    "    mae_train = MAE(y_train, ypred_lr_train)\n",
    "    mae_test = MAE(y_test, ypred_lr_test)\n",
    "    \n",
    "    print(\"Training Accuracy of the Linear Regression model is \" + str(round(train_accuracy,4)))\n",
    "    print(\"Testing Accuracy of the Linear Regression model is \" + str(round(test_accuracy,4)))\n",
    "    \n",
    "    print(\"\\nRMSE_training of the Linear Regression model is \" + str(round(rmse_train,4)))\n",
    "    print(\"RMSE_testing of the Linear Regression model is \" + str(round(rmse_test,4)))\n",
    "    \n",
    "    print(\"\\nMAE_training of the Linear Regression model is \" + str(round(mae_train,4)))\n",
    "    print(\"MAE_testing of the Linear Regression model is \" + str(round(mae_test,4)))\n",
    "    \n",
    "    sns.scatterplot(y_test, ypred_lr_test)\n",
    "    plt.show()\n",
    "    sns.scatterplot(y_train, ypred_lr_train)\n",
    "    plt.show()\n",
    "    \n",
    "    print(\"\\nCoefficient of depth is {:0.4f} and Coeffiecient of SPT-N60 is {:0.4f}\".format(lr.coef_[0],lr.coef_[1]))\n",
    "    print(\"\\nIntercept is {:0.4f}\".format(lr.intercept_))\n",
    "    \n",
    "    #one = pd.DataFrame({\"Training\" : y_train})\n",
    "    #two = pd.DataFrame({\"Testing\": y_test})\n",
    "    #three = pd.DataFrame({\"LR_train\": ypred_lr_train})\n",
    "    #four = pd.DataFrame({\"LR_test\": ypred_lr_test})\n",
    "    \n",
    "    #one.to_excel(\"one.xlsx\")\n",
    "    #two.to_excel(\"two.xlsx\")\n",
    "    #three.to_excel(\"three.xlsx\")\n",
    "    #four.to_excel(\"four.xlsx\")\n",
    "\n",
    "Linear_reg(X_train,X_test,y_train,y_test)\n"
   ]
  },
  {
   "cell_type": "code",
   "execution_count": 29,
   "metadata": {},
   "outputs": [
    {
     "name": "stdout",
     "output_type": "stream",
     "text": [
      "RMSE for training is : 0.9823\n",
      "MAE for training is : 0.5558\n",
      "r2-score for training is : 0.9138\n",
      "\n",
      "RMSE for testing is : 1.1626\n",
      "MAE for testing is : 0.7284\n",
      "r2-score for testing is : 0.8792\n"
     ]
    }
   ],
   "source": [
    "from sklearn.svm import SVR\n",
    "svr = SVR(kernel = \"rbf\", C = 10)\n",
    "svr.fit(X_tr_scaled, y_tr)\n",
    "ypred_svr = svr.predict(X_test_scaled)\n",
    "ypred_svr_train = svr.predict(X_tr_scaled)\n",
    "print(\"RMSE for training is : {:0.4f}\".format(MSE(y_tr,ypred_svr_train)**0.5))\n",
    "print(\"MAE for training is : {:0.4f}\".format(MAE(y_tr,ypred_svr_train)))\n",
    "print(\"r2-score for training is : {:0.4f}\".format(r2_score(y_tr,ypred_svr_train)))\n",
    "\n",
    "print(\"\\nRMSE for testing is : {:0.4f}\".format(MSE(y_test,ypred_svr)**0.5))\n",
    "print(\"MAE for testing is : {:0.4f}\".format(MAE(y_test,ypred_svr)))\n",
    "print(\"r2-score for testing is : {:0.4f}\".format(r2_score(y_test,ypred_svr)))\n",
    "\n",
    "#svr_rbf_train = pd.DataFrame({\"SVR_train\": ypred_svr_train})\n",
    "#svr_rbf_train.to_excel(\"svr_rbf_train.xlsx\")\n",
    "\n",
    "#svr_rbf_test = pd.DataFrame({\"SVR_test\": ypred_svr})\n",
    "#svr_rbf_test.to_excel(\"svr_rbf_test.xlsx\")"
   ]
  },
  {
   "cell_type": "code",
   "execution_count": 30,
   "metadata": {},
   "outputs": [
    {
     "name": "stdout",
     "output_type": "stream",
     "text": [
      "RMSE for training is : 1.0377\n",
      "MAE for training is : 0.6100\n",
      "r2-score for training is : 0.9038\n",
      "\n",
      "RMSE for testing is : 1.0822\n",
      "MAE for testing is : 0.6300\n",
      "r2-score for testing is : 0.8954\n"
     ]
    },
    {
     "data": {
      "text/plain": [
       "'svr_lin_train = pd.DataFrame({\"SVR_train\": ypred_svr_train})\\nsvr_lin_train.to_excel(\"svr_lin_train.xlsx\")\\n\\nsvr_lin_test = pd.DataFrame({\"SVR_test\": ypred_svr})\\nsvr_lin_test.to_excel(\"svr_lin_test.xlsx\")'"
      ]
     },
     "execution_count": 30,
     "metadata": {},
     "output_type": "execute_result"
    }
   ],
   "source": [
    "svr = SVR(kernel = \"linear\", C = 10)\n",
    "svr.fit(X_tr_scaled, y_tr)\n",
    "ypred_svr = svr.predict(X_test_scaled)\n",
    "ypred_svr_train = svr.predict(X_tr_scaled)\n",
    "print(\"RMSE for training is : {:0.4f}\".format(MSE(y_tr,ypred_svr_train)**0.5))\n",
    "print(\"MAE for training is : {:0.4f}\".format(MAE(y_tr,ypred_svr_train)))\n",
    "print(\"r2-score for training is : {:0.4f}\".format(r2_score(y_tr,ypred_svr_train)))\n",
    "\n",
    "print(\"\\nRMSE for testing is : {:0.4f}\".format(MSE(y_test,ypred_svr)**0.5))\n",
    "print(\"MAE for testing is : {:0.4f}\".format(MAE(y_test,ypred_svr)))\n",
    "print(\"r2-score for testing is : {:0.4f}\".format(r2_score(y_test,ypred_svr)))\n",
    "\n",
    "\"\"\"svr_lin_train = pd.DataFrame({\"SVR_train\": ypred_svr_train})\n",
    "svr_lin_train.to_excel(\"svr_lin_train.xlsx\")\n",
    "\n",
    "svr_lin_test = pd.DataFrame({\"SVR_test\": ypred_svr})\n",
    "svr_lin_test.to_excel(\"svr_lin_test.xlsx\")\"\"\""
   ]
  },
  {
   "cell_type": "code",
   "execution_count": null,
   "metadata": {},
   "outputs": [],
   "source": []
  },
  {
   "cell_type": "markdown",
   "metadata": {},
   "source": [
    "## ANN"
   ]
  },
  {
   "cell_type": "code",
   "execution_count": 21,
   "metadata": {},
   "outputs": [],
   "source": [
    "X_tr, X_val, y_tr, y_val = train_test_split(X_train, y_train, test_size = 0.2, random_state = 42)"
   ]
  },
  {
   "cell_type": "code",
   "execution_count": 22,
   "metadata": {},
   "outputs": [],
   "source": [
    "X_train = X_train.values"
   ]
  },
  {
   "cell_type": "code",
   "execution_count": 23,
   "metadata": {},
   "outputs": [],
   "source": [
    "X_test = X_test.values"
   ]
  },
  {
   "cell_type": "code",
   "execution_count": 24,
   "metadata": {},
   "outputs": [],
   "source": [
    "y_train = y_train.values"
   ]
  },
  {
   "cell_type": "code",
   "execution_count": 25,
   "metadata": {},
   "outputs": [],
   "source": [
    "y_test = y_test.values"
   ]
  },
  {
   "cell_type": "code",
   "execution_count": 26,
   "metadata": {},
   "outputs": [],
   "source": [
    "scaler = MinMaxScaler()"
   ]
  },
  {
   "cell_type": "code",
   "execution_count": 27,
   "metadata": {},
   "outputs": [
    {
     "data": {
      "text/plain": [
       "MinMaxScaler(copy=True, feature_range=(0, 1))"
      ]
     },
     "execution_count": 27,
     "metadata": {},
     "output_type": "execute_result"
    }
   ],
   "source": [
    "scaler.fit(X_tr)"
   ]
  },
  {
   "cell_type": "code",
   "execution_count": 28,
   "metadata": {},
   "outputs": [],
   "source": [
    "X_tr_scaled = scaler.transform(X_tr)\n",
    "X_val_scaled = scaler.transform(X_val)\n",
    "X_test_scaled = scaler.transform(X_test)"
   ]
  },
  {
   "cell_type": "code",
   "execution_count": 31,
   "metadata": {},
   "outputs": [],
   "source": [
    "from tensorflow.keras.models import Sequential\n",
    "from tensorflow.keras.layers import Dense, Activation\n",
    "from tensorflow.keras.optimizers import Adam\n",
    "from tensorflow.keras.callbacks import EarlyStopping"
   ]
  },
  {
   "cell_type": "code",
   "execution_count": 32,
   "metadata": {},
   "outputs": [],
   "source": [
    "model = Sequential()\n",
    "\n",
    "n_cols = X_tr.shape[1]\n",
    "model.add(Dense(2,activation='relu', input_shape = (n_cols,)))\n",
    "model.add(Dense(3,activation='relu'))\n",
    "\n",
    "model.add(Dense(1))\n",
    "\n",
    "optimizer = Adam(lr= 0.01)\n",
    "model.compile(optimizer= optimizer ,loss='mse')"
   ]
  },
  {
   "cell_type": "code",
   "execution_count": 33,
   "metadata": {},
   "outputs": [],
   "source": [
    "early_stop = EarlyStopping(monitor='val_loss', mode='min', verbose=1, patience= 100, restore_best_weights= True)"
   ]
  },
  {
   "cell_type": "code",
   "execution_count": 34,
   "metadata": {},
   "outputs": [
    {
     "name": "stdout",
     "output_type": "stream",
     "text": [
      "Epoch 1/1000\n",
      "4/4 [==============================] - 0s 28ms/step - loss: 1031.0449 - val_loss: 1049.6680\n",
      "Epoch 2/1000\n",
      "4/4 [==============================] - 0s 4ms/step - loss: 1020.6059 - val_loss: 1038.4971\n",
      "Epoch 3/1000\n",
      "4/4 [==============================] - 0s 3ms/step - loss: 1009.4266 - val_loss: 1026.1880\n",
      "Epoch 4/1000\n",
      "4/4 [==============================] - 0s 8ms/step - loss: 997.0090 - val_loss: 1012.6649\n",
      "Epoch 5/1000\n",
      "4/4 [==============================] - 0s 7ms/step - loss: 983.3320 - val_loss: 997.7599\n",
      "Epoch 6/1000\n",
      "4/4 [==============================] - 0s 5ms/step - loss: 968.6071 - val_loss: 981.3016\n",
      "Epoch 7/1000\n",
      "4/4 [==============================] - 0s 8ms/step - loss: 951.9280 - val_loss: 963.2523\n",
      "Epoch 8/1000\n",
      "4/4 [==============================] - 0s 5ms/step - loss: 933.9921 - val_loss: 943.4069\n",
      "Epoch 9/1000\n",
      "4/4 [==============================] - 0s 5ms/step - loss: 914.0637 - val_loss: 921.6641\n",
      "Epoch 10/1000\n",
      "4/4 [==============================] - 0s 5ms/step - loss: 892.1983 - val_loss: 897.9219\n",
      "Epoch 11/1000\n",
      "4/4 [==============================] - 0s 7ms/step - loss: 868.5933 - val_loss: 871.9614\n",
      "Epoch 12/1000\n",
      "4/4 [==============================] - 0s 5ms/step - loss: 842.5558 - val_loss: 843.8240\n",
      "Epoch 13/1000\n",
      "4/4 [==============================] - 0s 7ms/step - loss: 814.2526 - val_loss: 813.4774\n",
      "Epoch 14/1000\n",
      "4/4 [==============================] - 0s 5ms/step - loss: 784.0479 - val_loss: 780.6385\n",
      "Epoch 15/1000\n",
      "4/4 [==============================] - 0s 8ms/step - loss: 751.4022 - val_loss: 745.4423\n",
      "Epoch 16/1000\n",
      "4/4 [==============================] - 0s 4ms/step - loss: 716.5223 - val_loss: 707.9067\n",
      "Epoch 17/1000\n",
      "4/4 [==============================] - ETA: 0s - loss: 695.253 - 0s 8ms/step - loss: 679.8372 - val_loss: 668.2505\n",
      "Epoch 18/1000\n",
      "4/4 [==============================] - 0s 5ms/step - loss: 640.5209 - val_loss: 626.9476\n",
      "Epoch 19/1000\n",
      "4/4 [==============================] - 0s 7ms/step - loss: 599.7158 - val_loss: 584.0034\n",
      "Epoch 20/1000\n",
      "4/4 [==============================] - 0s 5ms/step - loss: 557.2210 - val_loss: 539.5956\n",
      "Epoch 21/1000\n",
      "4/4 [==============================] - 0s 7ms/step - loss: 513.8647 - val_loss: 493.9890\n",
      "Epoch 22/1000\n",
      "4/4 [==============================] - 0s 5ms/step - loss: 469.4228 - val_loss: 447.9857\n",
      "Epoch 23/1000\n",
      "4/4 [==============================] - 0s 5ms/step - loss: 425.2297 - val_loss: 402.2415\n",
      "Epoch 24/1000\n",
      "4/4 [==============================] - 0s 8ms/step - loss: 380.3070 - val_loss: 357.4026\n",
      "Epoch 25/1000\n",
      "4/4 [==============================] - 0s 5ms/step - loss: 336.7467 - val_loss: 313.4883\n",
      "Epoch 26/1000\n",
      "4/4 [==============================] - 0s 7ms/step - loss: 294.2027 - val_loss: 271.4027\n",
      "Epoch 27/1000\n",
      "4/4 [==============================] - 0s 5ms/step - loss: 253.7054 - val_loss: 231.8523\n",
      "Epoch 28/1000\n",
      "4/4 [==============================] - 0s 5ms/step - loss: 215.6126 - val_loss: 195.3622\n",
      "Epoch 29/1000\n",
      "4/4 [==============================] - 0s 5ms/step - loss: 180.6267 - val_loss: 162.3858\n",
      "Epoch 30/1000\n",
      "4/4 [==============================] - 0s 5ms/step - loss: 149.0807 - val_loss: 133.3445\n",
      "Epoch 31/1000\n",
      "4/4 [==============================] - 0s 8ms/step - loss: 121.3207 - val_loss: 108.6105\n",
      "Epoch 32/1000\n",
      "4/4 [==============================] - 0s 5ms/step - loss: 97.8564 - val_loss: 88.1585\n",
      "Epoch 33/1000\n",
      "4/4 [==============================] - 0s 8ms/step - loss: 78.4343 - val_loss: 71.9246\n",
      "Epoch 34/1000\n",
      "4/4 [==============================] - 0s 6ms/step - loss: 63.1578 - val_loss: 59.5892\n",
      "Epoch 35/1000\n",
      "4/4 [==============================] - 0s 5ms/step - loss: 51.4850 - val_loss: 50.7930\n",
      "Epoch 36/1000\n",
      "4/4 [==============================] - 0s 7ms/step - loss: 43.1343 - val_loss: 44.9299\n",
      "Epoch 37/1000\n",
      "4/4 [==============================] - 0s 5ms/step - loss: 37.0353 - val_loss: 41.2909\n",
      "Epoch 38/1000\n",
      "4/4 [==============================] - 0s 7ms/step - loss: 33.6283 - val_loss: 39.1099\n",
      "Epoch 39/1000\n",
      "4/4 [==============================] - 0s 7ms/step - loss: 31.4209 - val_loss: 37.9366\n",
      "Epoch 40/1000\n",
      "4/4 [==============================] - 0s 5ms/step - loss: 29.9797 - val_loss: 37.3146\n",
      "Epoch 41/1000\n",
      "4/4 [==============================] - 0s 5ms/step - loss: 29.2816 - val_loss: 36.9132\n",
      "Epoch 42/1000\n",
      "4/4 [==============================] - 0s 6ms/step - loss: 28.8453 - val_loss: 36.5696\n",
      "Epoch 43/1000\n",
      "4/4 [==============================] - 0s 5ms/step - loss: 28.4324 - val_loss: 36.1842\n",
      "Epoch 44/1000\n",
      "4/4 [==============================] - 0s 5ms/step - loss: 28.0142 - val_loss: 35.6793\n",
      "Epoch 45/1000\n",
      "4/4 [==============================] - 0s 5ms/step - loss: 27.6451 - val_loss: 35.1796\n",
      "Epoch 46/1000\n",
      "4/4 [==============================] - 0s 8ms/step - loss: 27.2037 - val_loss: 34.6500\n",
      "Epoch 47/1000\n",
      "4/4 [==============================] - 0s 4ms/step - loss: 26.7800 - val_loss: 34.0568\n",
      "Epoch 48/1000\n",
      "4/4 [==============================] - 0s 5ms/step - loss: 26.3343 - val_loss: 33.5056\n",
      "Epoch 49/1000\n",
      "4/4 [==============================] - 0s 7ms/step - loss: 25.9204 - val_loss: 32.9065\n",
      "Epoch 50/1000\n",
      "4/4 [==============================] - 0s 5ms/step - loss: 25.4647 - val_loss: 32.3487\n",
      "Epoch 51/1000\n",
      "4/4 [==============================] - 0s 5ms/step - loss: 25.0530 - val_loss: 31.7798\n",
      "Epoch 52/1000\n",
      "4/4 [==============================] - 0s 5ms/step - loss: 24.6072 - val_loss: 31.1920\n",
      "Epoch 53/1000\n",
      "4/4 [==============================] - 0s 8ms/step - loss: 24.1898 - val_loss: 30.6017\n",
      "Epoch 54/1000\n",
      "4/4 [==============================] - ETA: 0s - loss: 18.59 - 0s 5ms/step - loss: 23.7540 - val_loss: 30.0379\n",
      "Epoch 55/1000\n",
      "4/4 [==============================] - 0s 5ms/step - loss: 23.3453 - val_loss: 29.5040\n",
      "Epoch 56/1000\n",
      "4/4 [==============================] - 0s 5ms/step - loss: 22.9695 - val_loss: 28.9464\n",
      "Epoch 57/1000\n",
      "4/4 [==============================] - 0s 3ms/step - loss: 22.6072 - val_loss: 28.3971\n",
      "Epoch 58/1000\n",
      "4/4 [==============================] - 0s 5ms/step - loss: 22.1612 - val_loss: 27.9005\n",
      "Epoch 59/1000\n",
      "4/4 [==============================] - 0s 5ms/step - loss: 21.7760 - val_loss: 27.4070\n",
      "Epoch 60/1000\n",
      "4/4 [==============================] - 0s 5ms/step - loss: 21.4027 - val_loss: 26.9137\n",
      "Epoch 61/1000\n",
      "4/4 [==============================] - 0s 2ms/step - loss: 21.0200 - val_loss: 26.4416\n",
      "Epoch 62/1000\n",
      "4/4 [==============================] - 0s 2ms/step - loss: 20.6339 - val_loss: 25.9650\n",
      "Epoch 63/1000\n",
      "4/4 [==============================] - 0s 5ms/step - loss: 20.2599 - val_loss: 25.4616\n",
      "Epoch 64/1000\n",
      "4/4 [==============================] - 0s 5ms/step - loss: 19.8837 - val_loss: 24.9683\n",
      "Epoch 65/1000\n",
      "4/4 [==============================] - 0s 3ms/step - loss: 19.5249 - val_loss: 24.4902\n",
      "Epoch 66/1000\n",
      "4/4 [==============================] - 0s 4ms/step - loss: 19.1525 - val_loss: 24.0389\n",
      "Epoch 67/1000\n",
      "4/4 [==============================] - 0s 3ms/step - loss: 18.7977 - val_loss: 23.6161\n",
      "Epoch 68/1000\n",
      "4/4 [==============================] - 0s 2ms/step - loss: 18.4738 - val_loss: 23.2178\n",
      "Epoch 69/1000\n",
      "4/4 [==============================] - 0s 3ms/step - loss: 18.1125 - val_loss: 22.7892\n",
      "Epoch 70/1000\n",
      "4/4 [==============================] - 0s 2ms/step - loss: 17.7915 - val_loss: 22.3290\n",
      "Epoch 71/1000\n",
      "4/4 [==============================] - 0s 3ms/step - loss: 17.4318 - val_loss: 21.8954\n",
      "Epoch 72/1000\n",
      "4/4 [==============================] - 0s 5ms/step - loss: 17.0878 - val_loss: 21.4781\n",
      "Epoch 73/1000\n",
      "4/4 [==============================] - 0s 5ms/step - loss: 16.7691 - val_loss: 21.0641\n",
      "Epoch 74/1000\n",
      "4/4 [==============================] - 0s 5ms/step - loss: 16.4437 - val_loss: 20.6228\n",
      "Epoch 75/1000\n",
      "4/4 [==============================] - 0s 5ms/step - loss: 16.1063 - val_loss: 20.2080\n",
      "Epoch 76/1000\n",
      "4/4 [==============================] - 0s 4ms/step - loss: 15.7833 - val_loss: 19.7940\n",
      "Epoch 77/1000\n",
      "4/4 [==============================] - 0s 5ms/step - loss: 15.4683 - val_loss: 19.3761\n",
      "Epoch 78/1000\n",
      "4/4 [==============================] - 0s 5ms/step - loss: 15.1485 - val_loss: 18.9581\n",
      "Epoch 79/1000\n",
      "4/4 [==============================] - 0s 5ms/step - loss: 14.8478 - val_loss: 18.5508\n",
      "Epoch 80/1000\n",
      "4/4 [==============================] - 0s 5ms/step - loss: 14.5345 - val_loss: 18.1641\n",
      "Epoch 81/1000\n"
     ]
    },
    {
     "name": "stdout",
     "output_type": "stream",
     "text": [
      "4/4 [==============================] - 0s 5ms/step - loss: 14.2466 - val_loss: 17.7806\n",
      "Epoch 82/1000\n",
      "4/4 [==============================] - ETA: 0s - loss: 12.56 - 0s 5ms/step - loss: 13.9491 - val_loss: 17.4010\n",
      "Epoch 83/1000\n",
      "4/4 [==============================] - 0s 5ms/step - loss: 13.6471 - val_loss: 17.0356\n",
      "Epoch 84/1000\n",
      "4/4 [==============================] - 0s 3ms/step - loss: 13.3714 - val_loss: 16.6680\n",
      "Epoch 85/1000\n",
      "4/4 [==============================] - 0s 3ms/step - loss: 13.0862 - val_loss: 16.3113\n",
      "Epoch 86/1000\n",
      "4/4 [==============================] - 0s 5ms/step - loss: 12.8018 - val_loss: 15.9488\n",
      "Epoch 87/1000\n",
      "4/4 [==============================] - 0s 5ms/step - loss: 12.5425 - val_loss: 15.5978\n",
      "Epoch 88/1000\n",
      "4/4 [==============================] - 0s 5ms/step - loss: 12.2692 - val_loss: 15.2557\n",
      "Epoch 89/1000\n",
      "4/4 [==============================] - 0s 3ms/step - loss: 12.0012 - val_loss: 14.9155\n",
      "Epoch 90/1000\n",
      "4/4 [==============================] - 0s 3ms/step - loss: 11.7349 - val_loss: 14.5544\n",
      "Epoch 91/1000\n",
      "4/4 [==============================] - 0s 3ms/step - loss: 11.4905 - val_loss: 14.1967\n",
      "Epoch 92/1000\n",
      "4/4 [==============================] - 0s 4ms/step - loss: 11.2137 - val_loss: 13.8575\n",
      "Epoch 93/1000\n",
      "4/4 [==============================] - 0s 3ms/step - loss: 10.9624 - val_loss: 13.5237\n",
      "Epoch 94/1000\n",
      "4/4 [==============================] - 0s 5ms/step - loss: 10.7138 - val_loss: 13.2036\n",
      "Epoch 95/1000\n",
      "4/4 [==============================] - 0s 5ms/step - loss: 10.4810 - val_loss: 12.8836\n",
      "Epoch 96/1000\n",
      "4/4 [==============================] - 0s 2ms/step - loss: 10.2539 - val_loss: 12.5683\n",
      "Epoch 97/1000\n",
      "4/4 [==============================] - 0s 2ms/step - loss: 10.0150 - val_loss: 12.2690\n",
      "Epoch 98/1000\n",
      "4/4 [==============================] - 0s 5ms/step - loss: 9.7790 - val_loss: 11.9771\n",
      "Epoch 99/1000\n",
      "4/4 [==============================] - 0s 5ms/step - loss: 9.5689 - val_loss: 11.6806\n",
      "Epoch 100/1000\n",
      "4/4 [==============================] - 0s 5ms/step - loss: 9.3357 - val_loss: 11.3993\n",
      "Epoch 101/1000\n",
      "4/4 [==============================] - 0s 2ms/step - loss: 9.1112 - val_loss: 11.1332\n",
      "Epoch 102/1000\n",
      "4/4 [==============================] - 0s 3ms/step - loss: 8.9028 - val_loss: 10.8742\n",
      "Epoch 103/1000\n",
      "4/4 [==============================] - 0s 5ms/step - loss: 8.7032 - val_loss: 10.6218\n",
      "Epoch 104/1000\n",
      "4/4 [==============================] - 0s 5ms/step - loss: 8.5174 - val_loss: 10.3553\n",
      "Epoch 105/1000\n",
      "4/4 [==============================] - 0s 3ms/step - loss: 8.3124 - val_loss: 10.0968\n",
      "Epoch 106/1000\n",
      "4/4 [==============================] - 0s 2ms/step - loss: 8.1125 - val_loss: 9.8427\n",
      "Epoch 107/1000\n",
      "4/4 [==============================] - 0s 5ms/step - loss: 7.9263 - val_loss: 9.5925\n",
      "Epoch 108/1000\n",
      "4/4 [==============================] - 0s 5ms/step - loss: 7.7372 - val_loss: 9.3366\n",
      "Epoch 109/1000\n",
      "4/4 [==============================] - 0s 5ms/step - loss: 7.5516 - val_loss: 9.0950\n",
      "Epoch 110/1000\n",
      "4/4 [==============================] - 0s 5ms/step - loss: 7.3704 - val_loss: 8.8633\n",
      "Epoch 111/1000\n",
      "4/4 [==============================] - 0s 2ms/step - loss: 7.2119 - val_loss: 8.6350\n",
      "Epoch 112/1000\n",
      "4/4 [==============================] - 0s 3ms/step - loss: 7.0375 - val_loss: 8.4104\n",
      "Epoch 113/1000\n",
      "4/4 [==============================] - 0s 2ms/step - loss: 6.8677 - val_loss: 8.1899\n",
      "Epoch 114/1000\n",
      "4/4 [==============================] - 0s 3ms/step - loss: 6.6985 - val_loss: 7.9736\n",
      "Epoch 115/1000\n",
      "4/4 [==============================] - 0s 5ms/step - loss: 6.5331 - val_loss: 7.7641\n",
      "Epoch 116/1000\n",
      "4/4 [==============================] - 0s 5ms/step - loss: 6.3760 - val_loss: 7.5567\n",
      "Epoch 117/1000\n",
      "4/4 [==============================] - 0s 5ms/step - loss: 6.2194 - val_loss: 7.3551\n",
      "Epoch 118/1000\n",
      "4/4 [==============================] - 0s 5ms/step - loss: 6.0596 - val_loss: 7.1659\n",
      "Epoch 119/1000\n",
      "4/4 [==============================] - 0s 4ms/step - loss: 5.9230 - val_loss: 6.9827\n",
      "Epoch 120/1000\n",
      "4/4 [==============================] - 0s 5ms/step - loss: 5.7812 - val_loss: 6.7986\n",
      "Epoch 121/1000\n",
      "4/4 [==============================] - 0s 4ms/step - loss: 5.6441 - val_loss: 6.6119\n",
      "Epoch 122/1000\n",
      "4/4 [==============================] - 0s 5ms/step - loss: 5.5043 - val_loss: 6.4294\n",
      "Epoch 123/1000\n",
      "4/4 [==============================] - ETA: 0s - loss: 6.454 - 0s 5ms/step - loss: 5.3680 - val_loss: 6.2507\n",
      "Epoch 124/1000\n",
      "4/4 [==============================] - 0s 5ms/step - loss: 5.2303 - val_loss: 6.0828\n",
      "Epoch 125/1000\n",
      "4/4 [==============================] - 0s 5ms/step - loss: 5.1240 - val_loss: 5.9213\n",
      "Epoch 126/1000\n",
      "4/4 [==============================] - 0s 5ms/step - loss: 4.9894 - val_loss: 5.7594\n",
      "Epoch 127/1000\n",
      "4/4 [==============================] - 0s 5ms/step - loss: 4.8783 - val_loss: 5.6035\n",
      "Epoch 128/1000\n",
      "4/4 [==============================] - 0s 5ms/step - loss: 4.7549 - val_loss: 5.4459\n",
      "Epoch 129/1000\n",
      "4/4 [==============================] - 0s 2ms/step - loss: 4.6339 - val_loss: 5.2953\n",
      "Epoch 130/1000\n",
      "4/4 [==============================] - 0s 3ms/step - loss: 4.5215 - val_loss: 5.1463\n",
      "Epoch 131/1000\n",
      "4/4 [==============================] - 0s 5ms/step - loss: 4.4089 - val_loss: 4.9986\n",
      "Epoch 132/1000\n",
      "4/4 [==============================] - 0s 5ms/step - loss: 4.3012 - val_loss: 4.8485\n",
      "Epoch 133/1000\n",
      "4/4 [==============================] - 0s 5ms/step - loss: 4.1885 - val_loss: 4.7082\n",
      "Epoch 134/1000\n",
      "4/4 [==============================] - 0s 5ms/step - loss: 4.0882 - val_loss: 4.5723\n",
      "Epoch 135/1000\n",
      "4/4 [==============================] - 0s 3ms/step - loss: 3.9999 - val_loss: 4.4404\n",
      "Epoch 136/1000\n",
      "4/4 [==============================] - 0s 2ms/step - loss: 3.8896 - val_loss: 4.3164\n",
      "Epoch 137/1000\n",
      "4/4 [==============================] - 0s 5ms/step - loss: 3.7972 - val_loss: 4.1991\n",
      "Epoch 138/1000\n",
      "4/4 [==============================] - 0s 5ms/step - loss: 3.7093 - val_loss: 4.0802\n",
      "Epoch 139/1000\n",
      "4/4 [==============================] - 0s 5ms/step - loss: 3.6184 - val_loss: 3.9646\n",
      "Epoch 140/1000\n",
      "4/4 [==============================] - 0s 2ms/step - loss: 3.5265 - val_loss: 3.8485\n",
      "Epoch 141/1000\n",
      "4/4 [==============================] - ETA: 0s - loss: 2.628 - 0s 3ms/step - loss: 3.4427 - val_loss: 3.7297\n",
      "Epoch 142/1000\n",
      "4/4 [==============================] - 0s 4ms/step - loss: 3.3582 - val_loss: 3.6182\n",
      "Epoch 143/1000\n",
      "4/4 [==============================] - 0s 2ms/step - loss: 3.2747 - val_loss: 3.5094\n",
      "Epoch 144/1000\n",
      "4/4 [==============================] - 0s 5ms/step - loss: 3.1985 - val_loss: 3.4060\n",
      "Epoch 145/1000\n",
      "4/4 [==============================] - 0s 5ms/step - loss: 3.1238 - val_loss: 3.3057\n",
      "Epoch 146/1000\n",
      "4/4 [==============================] - 0s 5ms/step - loss: 3.0471 - val_loss: 3.2092\n",
      "Epoch 147/1000\n",
      "4/4 [==============================] - 0s 2ms/step - loss: 2.9756 - val_loss: 3.1146\n",
      "Epoch 148/1000\n",
      "4/4 [==============================] - 0s 2ms/step - loss: 2.9070 - val_loss: 3.0218\n",
      "Epoch 149/1000\n",
      "4/4 [==============================] - 0s 5ms/step - loss: 2.8381 - val_loss: 2.9321\n",
      "Epoch 150/1000\n",
      "4/4 [==============================] - ETA: 0s - loss: 2.050 - 0s 2ms/step - loss: 2.7713 - val_loss: 2.8443\n",
      "Epoch 151/1000\n",
      "4/4 [==============================] - 0s 3ms/step - loss: 2.7059 - val_loss: 2.7652\n",
      "Epoch 152/1000\n",
      "4/4 [==============================] - 0s 6ms/step - loss: 2.6435 - val_loss: 2.6903\n",
      "Epoch 153/1000\n",
      "4/4 [==============================] - ETA: 0s - loss: 2.172 - 0s 4ms/step - loss: 2.5873 - val_loss: 2.6154\n",
      "Epoch 154/1000\n",
      "4/4 [==============================] - 0s 5ms/step - loss: 2.5279 - val_loss: 2.5381\n",
      "Epoch 155/1000\n",
      "4/4 [==============================] - 0s 7ms/step - loss: 2.4775 - val_loss: 2.4621\n",
      "Epoch 156/1000\n",
      "4/4 [==============================] - 0s 5ms/step - loss: 2.4146 - val_loss: 2.3804\n",
      "Epoch 157/1000\n",
      "4/4 [==============================] - 0s 5ms/step - loss: 2.3641 - val_loss: 2.3025\n",
      "Epoch 158/1000\n",
      "4/4 [==============================] - 0s 5ms/step - loss: 2.3162 - val_loss: 2.2320\n",
      "Epoch 159/1000\n",
      "4/4 [==============================] - 0s 3ms/step - loss: 2.2698 - val_loss: 2.1644\n",
      "Epoch 160/1000\n",
      "4/4 [==============================] - 0s 2ms/step - loss: 2.2241 - val_loss: 2.1038\n",
      "Epoch 161/1000\n"
     ]
    },
    {
     "name": "stdout",
     "output_type": "stream",
     "text": [
      "4/4 [==============================] - 0s 5ms/step - loss: 2.1760 - val_loss: 2.0476\n",
      "Epoch 162/1000\n",
      "4/4 [==============================] - 0s 5ms/step - loss: 2.1341 - val_loss: 1.9929\n",
      "Epoch 163/1000\n",
      "4/4 [==============================] - 0s 5ms/step - loss: 2.0869 - val_loss: 1.9356\n",
      "Epoch 164/1000\n",
      "4/4 [==============================] - 0s 3ms/step - loss: 2.0468 - val_loss: 1.8835\n",
      "Epoch 165/1000\n",
      "4/4 [==============================] - 0s 3ms/step - loss: 2.0049 - val_loss: 1.8286\n",
      "Epoch 166/1000\n",
      "4/4 [==============================] - 0s 5ms/step - loss: 1.9649 - val_loss: 1.7790\n",
      "Epoch 167/1000\n",
      "4/4 [==============================] - 0s 5ms/step - loss: 1.9259 - val_loss: 1.7357\n",
      "Epoch 168/1000\n",
      "4/4 [==============================] - 0s 5ms/step - loss: 1.8922 - val_loss: 1.6930\n",
      "Epoch 169/1000\n",
      "4/4 [==============================] - 0s 5ms/step - loss: 1.8609 - val_loss: 1.6490\n",
      "Epoch 170/1000\n",
      "4/4 [==============================] - 0s 2ms/step - loss: 1.8254 - val_loss: 1.6008\n",
      "Epoch 171/1000\n",
      "4/4 [==============================] - 0s 5ms/step - loss: 1.7933 - val_loss: 1.5547\n",
      "Epoch 172/1000\n",
      "4/4 [==============================] - 0s 5ms/step - loss: 1.7626 - val_loss: 1.5013\n",
      "Epoch 173/1000\n",
      "4/4 [==============================] - 0s 3ms/step - loss: 1.7351 - val_loss: 1.4572\n",
      "Epoch 174/1000\n",
      "4/4 [==============================] - 0s 2ms/step - loss: 1.7070 - val_loss: 1.4180\n",
      "Epoch 175/1000\n",
      "4/4 [==============================] - 0s 5ms/step - loss: 1.6819 - val_loss: 1.3817\n",
      "Epoch 176/1000\n",
      "4/4 [==============================] - 0s 5ms/step - loss: 1.6550 - val_loss: 1.3522\n",
      "Epoch 177/1000\n",
      "4/4 [==============================] - 0s 5ms/step - loss: 1.6246 - val_loss: 1.3236\n",
      "Epoch 178/1000\n",
      "4/4 [==============================] - 0s 5ms/step - loss: 1.6038 - val_loss: 1.3023\n",
      "Epoch 179/1000\n",
      "4/4 [==============================] - 0s 4ms/step - loss: 1.5798 - val_loss: 1.2760\n",
      "Epoch 180/1000\n",
      "4/4 [==============================] - 0s 5ms/step - loss: 1.5569 - val_loss: 1.2451\n",
      "Epoch 181/1000\n",
      "4/4 [==============================] - 0s 2ms/step - loss: 1.5349 - val_loss: 1.2129\n",
      "Epoch 182/1000\n",
      "4/4 [==============================] - 0s 2ms/step - loss: 1.5123 - val_loss: 1.1748\n",
      "Epoch 183/1000\n",
      "4/4 [==============================] - 0s 5ms/step - loss: 1.4932 - val_loss: 1.1444\n",
      "Epoch 184/1000\n",
      "4/4 [==============================] - 0s 5ms/step - loss: 1.4739 - val_loss: 1.1237\n",
      "Epoch 185/1000\n",
      "4/4 [==============================] - 0s 5ms/step - loss: 1.4534 - val_loss: 1.1028\n",
      "Epoch 186/1000\n",
      "4/4 [==============================] - 0s 5ms/step - loss: 1.4363 - val_loss: 1.0802\n",
      "Epoch 187/1000\n",
      "4/4 [==============================] - 0s 5ms/step - loss: 1.4274 - val_loss: 1.0706\n",
      "Epoch 188/1000\n",
      "4/4 [==============================] - 0s 2ms/step - loss: 1.4060 - val_loss: 1.0524\n",
      "Epoch 189/1000\n",
      "4/4 [==============================] - 0s 5ms/step - loss: 1.3885 - val_loss: 1.0183\n",
      "Epoch 190/1000\n",
      "4/4 [==============================] - 0s 4ms/step - loss: 1.3730 - val_loss: 0.9866\n",
      "Epoch 191/1000\n",
      "4/4 [==============================] - 0s 2ms/step - loss: 1.3550 - val_loss: 0.9606\n",
      "Epoch 192/1000\n",
      "4/4 [==============================] - 0s 5ms/step - loss: 1.3416 - val_loss: 0.9330\n",
      "Epoch 193/1000\n",
      "4/4 [==============================] - 0s 5ms/step - loss: 1.3292 - val_loss: 0.9092\n",
      "Epoch 194/1000\n",
      "4/4 [==============================] - 0s 6ms/step - loss: 1.3165 - val_loss: 0.8912\n",
      "Epoch 195/1000\n",
      "4/4 [==============================] - 0s 3ms/step - loss: 1.3026 - val_loss: 0.8768\n",
      "Epoch 196/1000\n",
      "4/4 [==============================] - 0s 2ms/step - loss: 1.2892 - val_loss: 0.8662\n",
      "Epoch 197/1000\n",
      "4/4 [==============================] - 0s 5ms/step - loss: 1.2760 - val_loss: 0.8589\n",
      "Epoch 198/1000\n",
      "4/4 [==============================] - 0s 5ms/step - loss: 1.2644 - val_loss: 0.8485\n",
      "Epoch 199/1000\n",
      "4/4 [==============================] - 0s 5ms/step - loss: 1.2551 - val_loss: 0.8402\n",
      "Epoch 200/1000\n",
      "4/4 [==============================] - 0s 5ms/step - loss: 1.2434 - val_loss: 0.8179\n",
      "Epoch 201/1000\n",
      "4/4 [==============================] - 0s 5ms/step - loss: 1.2339 - val_loss: 0.7961\n",
      "Epoch 202/1000\n",
      "4/4 [==============================] - 0s 5ms/step - loss: 1.2249 - val_loss: 0.7802\n",
      "Epoch 203/1000\n",
      "4/4 [==============================] - 0s 5ms/step - loss: 1.2167 - val_loss: 0.7687\n",
      "Epoch 204/1000\n",
      "4/4 [==============================] - 0s 4ms/step - loss: 1.2081 - val_loss: 0.7583\n",
      "Epoch 205/1000\n",
      "4/4 [==============================] - 0s 5ms/step - loss: 1.1994 - val_loss: 0.7526\n",
      "Epoch 206/1000\n",
      "4/4 [==============================] - 0s 3ms/step - loss: 1.1915 - val_loss: 0.7462\n",
      "Epoch 207/1000\n",
      "4/4 [==============================] - 0s 2ms/step - loss: 1.1840 - val_loss: 0.7395\n",
      "Epoch 208/1000\n",
      "4/4 [==============================] - 0s 5ms/step - loss: 1.1785 - val_loss: 0.7339\n",
      "Epoch 209/1000\n",
      "4/4 [==============================] - 0s 5ms/step - loss: 1.1710 - val_loss: 0.7219\n",
      "Epoch 210/1000\n",
      "4/4 [==============================] - 0s 5ms/step - loss: 1.1641 - val_loss: 0.7007\n",
      "Epoch 211/1000\n",
      "4/4 [==============================] - 0s 3ms/step - loss: 1.1617 - val_loss: 0.6830\n",
      "Epoch 212/1000\n",
      "4/4 [==============================] - 0s 3ms/step - loss: 1.1561 - val_loss: 0.6732\n",
      "Epoch 213/1000\n",
      "4/4 [==============================] - 0s 5ms/step - loss: 1.1497 - val_loss: 0.6713\n",
      "Epoch 214/1000\n",
      "4/4 [==============================] - 0s 5ms/step - loss: 1.1434 - val_loss: 0.6720\n",
      "Epoch 215/1000\n",
      "4/4 [==============================] - 0s 5ms/step - loss: 1.1376 - val_loss: 0.6717\n",
      "Epoch 216/1000\n",
      "4/4 [==============================] - 0s 4ms/step - loss: 1.1349 - val_loss: 0.6804\n",
      "Epoch 217/1000\n",
      "4/4 [==============================] - 0s 4ms/step - loss: 1.1322 - val_loss: 0.6841\n",
      "Epoch 218/1000\n",
      "4/4 [==============================] - 0s 3ms/step - loss: 1.1264 - val_loss: 0.6781\n",
      "Epoch 219/1000\n",
      "4/4 [==============================] - 0s 5ms/step - loss: 1.1245 - val_loss: 0.6569\n",
      "Epoch 220/1000\n",
      "4/4 [==============================] - 0s 5ms/step - loss: 1.1168 - val_loss: 0.6452\n",
      "Epoch 221/1000\n",
      "4/4 [==============================] - 0s 2ms/step - loss: 1.1149 - val_loss: 0.6360\n",
      "Epoch 222/1000\n",
      "4/4 [==============================] - 0s 3ms/step - loss: 1.1099 - val_loss: 0.6276\n",
      "Epoch 223/1000\n",
      "4/4 [==============================] - 0s 2ms/step - loss: 1.1067 - val_loss: 0.6225\n",
      "Epoch 224/1000\n",
      "4/4 [==============================] - 0s 5ms/step - loss: 1.1036 - val_loss: 0.6185\n",
      "Epoch 225/1000\n",
      "4/4 [==============================] - 0s 6ms/step - loss: 1.1018 - val_loss: 0.6124\n",
      "Epoch 226/1000\n",
      "4/4 [==============================] - 0s 5ms/step - loss: 1.0996 - val_loss: 0.6140\n",
      "Epoch 227/1000\n",
      "4/4 [==============================] - 0s 2ms/step - loss: 1.0956 - val_loss: 0.6035\n",
      "Epoch 228/1000\n",
      "4/4 [==============================] - 0s 2ms/step - loss: 1.0930 - val_loss: 0.6005\n",
      "Epoch 229/1000\n",
      "4/4 [==============================] - 0s 3ms/step - loss: 1.0896 - val_loss: 0.6062\n",
      "Epoch 230/1000\n",
      "4/4 [==============================] - 0s 5ms/step - loss: 1.0872 - val_loss: 0.6098\n",
      "Epoch 231/1000\n",
      "4/4 [==============================] - 0s 5ms/step - loss: 1.0862 - val_loss: 0.6069\n",
      "Epoch 232/1000\n",
      "4/4 [==============================] - 0s 5ms/step - loss: 1.0836 - val_loss: 0.6114\n",
      "Epoch 233/1000\n",
      "4/4 [==============================] - 0s 5ms/step - loss: 1.0816 - val_loss: 0.6073\n",
      "Epoch 234/1000\n",
      "4/4 [==============================] - 0s 2ms/step - loss: 1.0801 - val_loss: 0.6030\n",
      "Epoch 235/1000\n",
      "4/4 [==============================] - 0s 2ms/step - loss: 1.0773 - val_loss: 0.5980\n",
      "Epoch 236/1000\n",
      "4/4 [==============================] - 0s 5ms/step - loss: 1.0765 - val_loss: 0.5868\n",
      "Epoch 237/1000\n",
      "4/4 [==============================] - 0s 5ms/step - loss: 1.0736 - val_loss: 0.5817\n",
      "Epoch 238/1000\n",
      "4/4 [==============================] - 0s 5ms/step - loss: 1.0707 - val_loss: 0.5708\n",
      "Epoch 239/1000\n",
      "4/4 [==============================] - 0s 5ms/step - loss: 1.0730 - val_loss: 0.5596\n",
      "Epoch 240/1000\n",
      "4/4 [==============================] - 0s 5ms/step - loss: 1.0708 - val_loss: 0.5559\n",
      "Epoch 241/1000\n",
      "4/4 [==============================] - 0s 5ms/step - loss: 1.0702 - val_loss: 0.5535\n",
      "Epoch 242/1000\n",
      "4/4 [==============================] - 0s 5ms/step - loss: 1.0686 - val_loss: 0.5569\n",
      "Epoch 243/1000\n"
     ]
    },
    {
     "name": "stdout",
     "output_type": "stream",
     "text": [
      "4/4 [==============================] - 0s 5ms/step - loss: 1.0668 - val_loss: 0.5630\n",
      "Epoch 244/1000\n",
      "4/4 [==============================] - 0s 5ms/step - loss: 1.0640 - val_loss: 0.5666\n",
      "Epoch 245/1000\n",
      "4/4 [==============================] - 0s 5ms/step - loss: 1.0631 - val_loss: 0.5696\n",
      "Epoch 246/1000\n",
      "4/4 [==============================] - 0s 5ms/step - loss: 1.0633 - val_loss: 0.5740\n",
      "Epoch 247/1000\n",
      "4/4 [==============================] - 0s 5ms/step - loss: 1.0621 - val_loss: 0.5735\n",
      "Epoch 248/1000\n",
      "4/4 [==============================] - 0s 5ms/step - loss: 1.0605 - val_loss: 0.5739\n",
      "Epoch 249/1000\n",
      "4/4 [==============================] - 0s 2ms/step - loss: 1.0601 - val_loss: 0.5705\n",
      "Epoch 250/1000\n",
      "4/4 [==============================] - 0s 5ms/step - loss: 1.0596 - val_loss: 0.5649\n",
      "Epoch 251/1000\n",
      "4/4 [==============================] - 0s 5ms/step - loss: 1.0586 - val_loss: 0.5628\n",
      "Epoch 252/1000\n",
      "4/4 [==============================] - 0s 4ms/step - loss: 1.0589 - val_loss: 0.5624\n",
      "Epoch 253/1000\n",
      "4/4 [==============================] - 0s 5ms/step - loss: 1.0573 - val_loss: 0.5530\n",
      "Epoch 254/1000\n",
      "4/4 [==============================] - 0s 4ms/step - loss: 1.0582 - val_loss: 0.5510\n",
      "Epoch 255/1000\n",
      "4/4 [==============================] - 0s 3ms/step - loss: 1.0573 - val_loss: 0.5465\n",
      "Epoch 256/1000\n",
      "4/4 [==============================] - 0s 5ms/step - loss: 1.0577 - val_loss: 0.5512\n",
      "Epoch 257/1000\n",
      "4/4 [==============================] - 0s 5ms/step - loss: 1.0574 - val_loss: 0.5495\n",
      "Epoch 258/1000\n",
      "4/4 [==============================] - 0s 5ms/step - loss: 1.0557 - val_loss: 0.5608\n",
      "Epoch 259/1000\n",
      "4/4 [==============================] - 0s 4ms/step - loss: 1.0553 - val_loss: 0.5671\n",
      "Epoch 260/1000\n",
      "4/4 [==============================] - 0s 2ms/step - loss: 1.0554 - val_loss: 0.5674\n",
      "Epoch 261/1000\n",
      "4/4 [==============================] - 0s 3ms/step - loss: 1.0564 - val_loss: 0.5697\n",
      "Epoch 262/1000\n",
      "4/4 [==============================] - 0s 2ms/step - loss: 1.0529 - val_loss: 0.5579\n",
      "Epoch 263/1000\n",
      "4/4 [==============================] - 0s 5ms/step - loss: 1.0535 - val_loss: 0.5452\n",
      "Epoch 264/1000\n",
      "4/4 [==============================] - 0s 5ms/step - loss: 1.0531 - val_loss: 0.5385\n",
      "Epoch 265/1000\n",
      "4/4 [==============================] - 0s 5ms/step - loss: 1.0536 - val_loss: 0.5350\n",
      "Epoch 266/1000\n",
      "4/4 [==============================] - 0s 5ms/step - loss: 1.0543 - val_loss: 0.5396\n",
      "Epoch 267/1000\n",
      "4/4 [==============================] - 0s 3ms/step - loss: 1.0529 - val_loss: 0.5425\n",
      "Epoch 268/1000\n",
      "4/4 [==============================] - 0s 2ms/step - loss: 1.0520 - val_loss: 0.5482\n",
      "Epoch 269/1000\n",
      "4/4 [==============================] - 0s 2ms/step - loss: 1.0499 - val_loss: 0.5631\n",
      "Epoch 270/1000\n",
      "4/4 [==============================] - 0s 5ms/step - loss: 1.0519 - val_loss: 0.5745\n",
      "Epoch 271/1000\n",
      "4/4 [==============================] - 0s 5ms/step - loss: 1.0521 - val_loss: 0.5748\n",
      "Epoch 272/1000\n",
      "4/4 [==============================] - 0s 6ms/step - loss: 1.0521 - val_loss: 0.5693\n",
      "Epoch 273/1000\n",
      "4/4 [==============================] - 0s 5ms/step - loss: 1.0530 - val_loss: 0.5545\n",
      "Epoch 274/1000\n",
      "4/4 [==============================] - 0s 5ms/step - loss: 1.0503 - val_loss: 0.5587\n",
      "Epoch 275/1000\n",
      "4/4 [==============================] - 0s 5ms/step - loss: 1.0505 - val_loss: 0.5619\n",
      "Epoch 276/1000\n",
      "4/4 [==============================] - 0s 3ms/step - loss: 1.0501 - val_loss: 0.5551\n",
      "Epoch 277/1000\n",
      "4/4 [==============================] - 0s 5ms/step - loss: 1.0499 - val_loss: 0.5513\n",
      "Epoch 278/1000\n",
      "4/4 [==============================] - 0s 5ms/step - loss: 1.0490 - val_loss: 0.5466\n",
      "Epoch 279/1000\n",
      "4/4 [==============================] - 0s 7ms/step - loss: 1.0496 - val_loss: 0.5377\n",
      "Epoch 280/1000\n",
      "4/4 [==============================] - 0s 5ms/step - loss: 1.0495 - val_loss: 0.5360\n",
      "Epoch 281/1000\n",
      "4/4 [==============================] - 0s 5ms/step - loss: 1.0495 - val_loss: 0.5365\n",
      "Epoch 282/1000\n",
      "4/4 [==============================] - 0s 5ms/step - loss: 1.0505 - val_loss: 0.5425\n",
      "Epoch 283/1000\n",
      "4/4 [==============================] - 0s 5ms/step - loss: 1.0491 - val_loss: 0.5439\n",
      "Epoch 284/1000\n",
      "4/4 [==============================] - 0s 3ms/step - loss: 1.0488 - val_loss: 0.5442\n",
      "Epoch 285/1000\n",
      "4/4 [==============================] - 0s 3ms/step - loss: 1.0487 - val_loss: 0.5448\n",
      "Epoch 286/1000\n",
      "4/4 [==============================] - 0s 4ms/step - loss: 1.0484 - val_loss: 0.5459\n",
      "Epoch 287/1000\n",
      "4/4 [==============================] - 0s 3ms/step - loss: 1.0485 - val_loss: 0.5497\n",
      "Epoch 288/1000\n",
      "4/4 [==============================] - 0s 2ms/step - loss: 1.0484 - val_loss: 0.5488\n",
      "Epoch 289/1000\n",
      "4/4 [==============================] - 0s 5ms/step - loss: 1.0484 - val_loss: 0.5473\n",
      "Epoch 290/1000\n",
      "4/4 [==============================] - 0s 5ms/step - loss: 1.0492 - val_loss: 0.5553\n",
      "Epoch 291/1000\n",
      "4/4 [==============================] - 0s 2ms/step - loss: 1.0498 - val_loss: 0.5607\n",
      "Epoch 292/1000\n",
      "4/4 [==============================] - 0s 3ms/step - loss: 1.0492 - val_loss: 0.5490\n",
      "Epoch 293/1000\n",
      "4/4 [==============================] - 0s 5ms/step - loss: 1.0481 - val_loss: 0.5459\n",
      "Epoch 294/1000\n",
      "4/4 [==============================] - 0s 5ms/step - loss: 1.0476 - val_loss: 0.5436\n",
      "Epoch 295/1000\n",
      "4/4 [==============================] - 0s 5ms/step - loss: 1.0474 - val_loss: 0.5392\n",
      "Epoch 296/1000\n",
      "4/4 [==============================] - 0s 5ms/step - loss: 1.0499 - val_loss: 0.5410\n",
      "Epoch 297/1000\n",
      "4/4 [==============================] - 0s 5ms/step - loss: 1.0476 - val_loss: 0.5288\n",
      "Epoch 298/1000\n",
      "4/4 [==============================] - 0s 5ms/step - loss: 1.0522 - val_loss: 0.5221\n",
      "Epoch 299/1000\n",
      "4/4 [==============================] - 0s 5ms/step - loss: 1.0509 - val_loss: 0.5230\n",
      "Epoch 300/1000\n",
      "4/4 [==============================] - 0s 3ms/step - loss: 1.0504 - val_loss: 0.5277\n",
      "Epoch 301/1000\n",
      "4/4 [==============================] - 0s 3ms/step - loss: 1.0539 - val_loss: 0.5544\n",
      "Epoch 302/1000\n",
      "4/4 [==============================] - 0s 5ms/step - loss: 1.0478 - val_loss: 0.5664\n",
      "Epoch 303/1000\n",
      "4/4 [==============================] - 0s 5ms/step - loss: 1.0481 - val_loss: 0.5757\n",
      "Epoch 304/1000\n",
      "4/4 [==============================] - 0s 5ms/step - loss: 1.0537 - val_loss: 0.5900\n",
      "Epoch 305/1000\n",
      "4/4 [==============================] - 0s 4ms/step - loss: 1.0526 - val_loss: 0.5847\n",
      "Epoch 306/1000\n",
      "4/4 [==============================] - 0s 4ms/step - loss: 1.0497 - val_loss: 0.5652\n",
      "Epoch 307/1000\n",
      "4/4 [==============================] - ETA: 0s - loss: 1.288 - 0s 5ms/step - loss: 1.0461 - val_loss: 0.5498\n",
      "Epoch 308/1000\n",
      "4/4 [==============================] - 0s 5ms/step - loss: 1.0477 - val_loss: 0.5285\n",
      "Epoch 309/1000\n",
      "4/4 [==============================] - 0s 4ms/step - loss: 1.0482 - val_loss: 0.5274\n",
      "Epoch 310/1000\n",
      "4/4 [==============================] - 0s 5ms/step - loss: 1.0491 - val_loss: 0.5264\n",
      "Epoch 311/1000\n",
      "4/4 [==============================] - 0s 3ms/step - loss: 1.0487 - val_loss: 0.5324\n",
      "Epoch 312/1000\n",
      "4/4 [==============================] - 0s 2ms/step - loss: 1.0477 - val_loss: 0.5333\n",
      "Epoch 313/1000\n",
      "4/4 [==============================] - 0s 5ms/step - loss: 1.0483 - val_loss: 0.5409\n",
      "Epoch 314/1000\n",
      "4/4 [==============================] - 0s 5ms/step - loss: 1.0467 - val_loss: 0.5402\n",
      "Epoch 315/1000\n",
      "4/4 [==============================] - 0s 5ms/step - loss: 1.0467 - val_loss: 0.5416\n",
      "Epoch 316/1000\n",
      "4/4 [==============================] - 0s 5ms/step - loss: 1.0474 - val_loss: 0.5429\n",
      "Epoch 317/1000\n",
      "4/4 [==============================] - 0s 5ms/step - loss: 1.0469 - val_loss: 0.5386\n",
      "Epoch 318/1000\n",
      "4/4 [==============================] - 0s 5ms/step - loss: 1.0467 - val_loss: 0.5409\n",
      "Epoch 319/1000\n",
      "4/4 [==============================] - 0s 4ms/step - loss: 1.0485 - val_loss: 0.5444\n",
      "Epoch 320/1000\n",
      "4/4 [==============================] - 0s 3ms/step - loss: 1.0458 - val_loss: 0.5658\n",
      "Epoch 321/1000\n",
      "4/4 [==============================] - 0s 3ms/step - loss: 1.0484 - val_loss: 0.5742\n",
      "Epoch 322/1000\n",
      "4/4 [==============================] - 0s 5ms/step - loss: 1.0488 - val_loss: 0.5718\n",
      "Epoch 323/1000\n",
      "4/4 [==============================] - 0s 5ms/step - loss: 1.0489 - val_loss: 0.5704\n",
      "Epoch 324/1000\n",
      "4/4 [==============================] - 0s 3ms/step - loss: 1.0487 - val_loss: 0.5663\n"
     ]
    },
    {
     "name": "stdout",
     "output_type": "stream",
     "text": [
      "Epoch 325/1000\n",
      "4/4 [==============================] - ETA: 0s - loss: 2.008 - 0s 4ms/step - loss: 1.0476 - val_loss: 0.5601\n",
      "Epoch 326/1000\n",
      "4/4 [==============================] - 0s 2ms/step - loss: 1.0468 - val_loss: 0.5525\n",
      "Epoch 327/1000\n",
      "4/4 [==============================] - 0s 5ms/step - loss: 1.0461 - val_loss: 0.5433\n",
      "Epoch 328/1000\n",
      "4/4 [==============================] - 0s 5ms/step - loss: 1.0556 - val_loss: 0.5298\n",
      "Epoch 329/1000\n",
      "4/4 [==============================] - 0s 5ms/step - loss: 1.0507 - val_loss: 0.5466\n",
      "Epoch 330/1000\n",
      "4/4 [==============================] - 0s 3ms/step - loss: 1.0477 - val_loss: 0.5390\n",
      "Epoch 331/1000\n",
      "4/4 [==============================] - 0s 2ms/step - loss: 1.0468 - val_loss: 0.5343\n",
      "Epoch 332/1000\n",
      "4/4 [==============================] - 0s 5ms/step - loss: 1.0469 - val_loss: 0.5302\n",
      "Epoch 333/1000\n",
      "4/4 [==============================] - ETA: 0s - loss: 1.844 - 0s 5ms/step - loss: 1.0485 - val_loss: 0.5240\n",
      "Epoch 334/1000\n",
      "4/4 [==============================] - 0s 2ms/step - loss: 1.0485 - val_loss: 0.5260\n",
      "Epoch 335/1000\n",
      "4/4 [==============================] - 0s 3ms/step - loss: 1.0479 - val_loss: 0.5311\n",
      "Epoch 336/1000\n",
      "4/4 [==============================] - 0s 2ms/step - loss: 1.0468 - val_loss: 0.5435\n",
      "Epoch 337/1000\n",
      "4/4 [==============================] - 0s 5ms/step - loss: 1.0464 - val_loss: 0.5535\n",
      "Epoch 338/1000\n",
      "4/4 [==============================] - 0s 5ms/step - loss: 1.0473 - val_loss: 0.5632\n",
      "Epoch 339/1000\n",
      "4/4 [==============================] - 0s 6ms/step - loss: 1.0477 - val_loss: 0.5607\n",
      "Epoch 340/1000\n",
      "4/4 [==============================] - 0s 3ms/step - loss: 1.0461 - val_loss: 0.5466\n",
      "Epoch 341/1000\n",
      "4/4 [==============================] - 0s 4ms/step - loss: 1.0481 - val_loss: 0.5298\n",
      "Epoch 342/1000\n",
      "4/4 [==============================] - 0s 4ms/step - loss: 1.0484 - val_loss: 0.5255\n",
      "Epoch 343/1000\n",
      "4/4 [==============================] - 0s 4ms/step - loss: 1.0480 - val_loss: 0.5315\n",
      "Epoch 344/1000\n",
      "4/4 [==============================] - 0s 5ms/step - loss: 1.0476 - val_loss: 0.5420\n",
      "Epoch 345/1000\n",
      "4/4 [==============================] - 0s 5ms/step - loss: 1.0479 - val_loss: 0.5488\n",
      "Epoch 346/1000\n",
      "4/4 [==============================] - 0s 5ms/step - loss: 1.0468 - val_loss: 0.5481\n",
      "Epoch 347/1000\n",
      "4/4 [==============================] - 0s 6ms/step - loss: 1.0478 - val_loss: 0.5540\n",
      "Epoch 348/1000\n",
      "4/4 [==============================] - 0s 5ms/step - loss: 1.0469 - val_loss: 0.5513\n",
      "Epoch 349/1000\n",
      "4/4 [==============================] - 0s 5ms/step - loss: 1.0478 - val_loss: 0.5385\n",
      "Epoch 350/1000\n",
      "4/4 [==============================] - 0s 6ms/step - loss: 1.0478 - val_loss: 0.5335\n",
      "Epoch 351/1000\n",
      "4/4 [==============================] - 0s 4ms/step - loss: 1.0473 - val_loss: 0.5394\n",
      "Epoch 352/1000\n",
      "4/4 [==============================] - 0s 5ms/step - loss: 1.0465 - val_loss: 0.5449\n",
      "Epoch 353/1000\n",
      "4/4 [==============================] - 0s 5ms/step - loss: 1.0471 - val_loss: 0.5495\n",
      "Epoch 354/1000\n",
      "4/4 [==============================] - 0s 5ms/step - loss: 1.0472 - val_loss: 0.5524\n",
      "Epoch 355/1000\n",
      "4/4 [==============================] - 0s 5ms/step - loss: 1.0484 - val_loss: 0.5420\n",
      "Epoch 356/1000\n",
      "4/4 [==============================] - 0s 5ms/step - loss: 1.0466 - val_loss: 0.5461\n",
      "Epoch 357/1000\n",
      "4/4 [==============================] - 0s 5ms/step - loss: 1.0468 - val_loss: 0.5534\n",
      "Epoch 358/1000\n",
      "4/4 [==============================] - 0s 2ms/step - loss: 1.0482 - val_loss: 0.5663\n",
      "Epoch 359/1000\n",
      "4/4 [==============================] - 0s 2ms/step - loss: 1.0496 - val_loss: 0.5630\n",
      "Epoch 360/1000\n",
      "4/4 [==============================] - 0s 5ms/step - loss: 1.0450 - val_loss: 0.5400\n",
      "Epoch 361/1000\n",
      "4/4 [==============================] - 0s 5ms/step - loss: 1.0484 - val_loss: 0.5220\n",
      "Epoch 362/1000\n",
      "4/4 [==============================] - 0s 2ms/step - loss: 1.0502 - val_loss: 0.5196\n",
      "Epoch 363/1000\n",
      "4/4 [==============================] - 0s 5ms/step - loss: 1.0498 - val_loss: 0.5259\n",
      "Epoch 364/1000\n",
      "4/4 [==============================] - 0s 5ms/step - loss: 1.0484 - val_loss: 0.5283\n",
      "Epoch 365/1000\n",
      "4/4 [==============================] - 0s 5ms/step - loss: 1.0480 - val_loss: 0.5310\n",
      "Epoch 366/1000\n",
      "4/4 [==============================] - 0s 2ms/step - loss: 1.0488 - val_loss: 0.5386\n",
      "Epoch 367/1000\n",
      "4/4 [==============================] - 0s 3ms/step - loss: 1.0494 - val_loss: 0.5553\n",
      "Epoch 368/1000\n",
      "4/4 [==============================] - 0s 6ms/step - loss: 1.0472 - val_loss: 0.5521\n",
      "Epoch 369/1000\n",
      "4/4 [==============================] - 0s 4ms/step - loss: 1.0484 - val_loss: 0.5588\n",
      "Epoch 370/1000\n",
      "4/4 [==============================] - 0s 5ms/step - loss: 1.0481 - val_loss: 0.5668\n",
      "Epoch 371/1000\n",
      "4/4 [==============================] - 0s 2ms/step - loss: 1.0476 - val_loss: 0.5648\n",
      "Epoch 372/1000\n",
      "4/4 [==============================] - 0s 2ms/step - loss: 1.0471 - val_loss: 0.5558\n",
      "Epoch 373/1000\n",
      "4/4 [==============================] - 0s 6ms/step - loss: 1.0462 - val_loss: 0.5372\n",
      "Epoch 374/1000\n",
      "4/4 [==============================] - 0s 4ms/step - loss: 1.0476 - val_loss: 0.5275\n",
      "Epoch 375/1000\n",
      "4/4 [==============================] - 0s 5ms/step - loss: 1.0487 - val_loss: 0.5273\n",
      "Epoch 376/1000\n",
      "4/4 [==============================] - 0s 3ms/step - loss: 1.0483 - val_loss: 0.5305\n",
      "Epoch 377/1000\n",
      "4/4 [==============================] - 0s 3ms/step - loss: 1.0471 - val_loss: 0.5445\n",
      "Epoch 378/1000\n",
      "4/4 [==============================] - 0s 5ms/step - loss: 1.0467 - val_loss: 0.5495\n",
      "Epoch 379/1000\n",
      "4/4 [==============================] - 0s 6ms/step - loss: 1.0459 - val_loss: 0.5605\n",
      "Epoch 380/1000\n",
      "4/4 [==============================] - 0s 4ms/step - loss: 1.0500 - val_loss: 0.5681\n",
      "Epoch 381/1000\n",
      "4/4 [==============================] - 0s 6ms/step - loss: 1.0477 - val_loss: 0.5509\n",
      "Epoch 382/1000\n",
      "4/4 [==============================] - 0s 4ms/step - loss: 1.0461 - val_loss: 0.5424\n",
      "Epoch 383/1000\n",
      "4/4 [==============================] - 0s 5ms/step - loss: 1.0464 - val_loss: 0.5265\n",
      "Epoch 384/1000\n",
      "4/4 [==============================] - 0s 5ms/step - loss: 1.0479 - val_loss: 0.5178\n",
      "Epoch 385/1000\n",
      "4/4 [==============================] - 0s 3ms/step - loss: 1.0537 - val_loss: 0.5159\n",
      "Epoch 386/1000\n",
      "4/4 [==============================] - 0s 5ms/step - loss: 1.0497 - val_loss: 0.5272\n",
      "Epoch 387/1000\n",
      "4/4 [==============================] - ETA: 0s - loss: 1.682 - 0s 4ms/step - loss: 1.0462 - val_loss: 0.5427\n",
      "Epoch 388/1000\n",
      "4/4 [==============================] - 0s 6ms/step - loss: 1.0437 - val_loss: 0.5739\n",
      "Epoch 389/1000\n",
      "4/4 [==============================] - 0s 4ms/step - loss: 1.0508 - val_loss: 0.5973\n",
      "Epoch 390/1000\n",
      "4/4 [==============================] - 0s 5ms/step - loss: 1.0533 - val_loss: 0.6007\n",
      "Epoch 391/1000\n",
      "4/4 [==============================] - ETA: 0s - loss: 0.552 - 0s 5ms/step - loss: 1.0533 - val_loss: 0.5767\n",
      "Epoch 392/1000\n",
      "4/4 [==============================] - 0s 5ms/step - loss: 1.0499 - val_loss: 0.5469\n",
      "Epoch 393/1000\n",
      "4/4 [==============================] - 0s 5ms/step - loss: 1.0457 - val_loss: 0.5267\n",
      "Epoch 394/1000\n",
      "4/4 [==============================] - 0s 3ms/step - loss: 1.0490 - val_loss: 0.5201\n",
      "Epoch 395/1000\n",
      "4/4 [==============================] - 0s 5ms/step - loss: 1.0521 - val_loss: 0.5140\n",
      "Epoch 396/1000\n",
      "4/4 [==============================] - 0s 5ms/step - loss: 1.0529 - val_loss: 0.5110\n",
      "Epoch 397/1000\n",
      "4/4 [==============================] - 0s 5ms/step - loss: 1.0534 - val_loss: 0.5133\n",
      "Epoch 398/1000\n",
      "4/4 [==============================] - 0s 5ms/step - loss: 1.0514 - val_loss: 0.5223\n",
      "Epoch 399/1000\n",
      "4/4 [==============================] - 0s 4ms/step - loss: 1.0514 - val_loss: 0.5484\n",
      "Epoch 400/1000\n",
      "4/4 [==============================] - 0s 5ms/step - loss: 1.0485 - val_loss: 0.5683\n",
      "Epoch 401/1000\n",
      "4/4 [==============================] - 0s 5ms/step - loss: 1.0483 - val_loss: 0.5635\n",
      "Epoch 402/1000\n",
      "4/4 [==============================] - 0s 2ms/step - loss: 1.0483 - val_loss: 0.5658\n",
      "Epoch 403/1000\n",
      "4/4 [==============================] - 0s 5ms/step - loss: 1.0519 - val_loss: 0.5871\n",
      "Epoch 404/1000\n",
      "4/4 [==============================] - 0s 6ms/step - loss: 1.0528 - val_loss: 0.5727\n",
      "Epoch 405/1000\n",
      "4/4 [==============================] - 0s 4ms/step - loss: 1.0482 - val_loss: 0.5703\n"
     ]
    },
    {
     "name": "stdout",
     "output_type": "stream",
     "text": [
      "Epoch 406/1000\n",
      "4/4 [==============================] - 0s 3ms/step - loss: 1.0481 - val_loss: 0.5647\n",
      "Epoch 407/1000\n",
      "4/4 [==============================] - 0s 6ms/step - loss: 1.0480 - val_loss: 0.5580\n",
      "Epoch 408/1000\n",
      "4/4 [==============================] - ETA: 0s - loss: 0.321 - 0s 3ms/step - loss: 1.0470 - val_loss: 0.5628\n",
      "Epoch 409/1000\n",
      "4/4 [==============================] - 0s 3ms/step - loss: 1.0479 - val_loss: 0.5495\n",
      "Epoch 410/1000\n",
      "4/4 [==============================] - 0s 3ms/step - loss: 1.0461 - val_loss: 0.5416\n",
      "Epoch 411/1000\n",
      "4/4 [==============================] - 0s 5ms/step - loss: 1.0472 - val_loss: 0.5308\n",
      "Epoch 412/1000\n",
      "4/4 [==============================] - 0s 5ms/step - loss: 1.0520 - val_loss: 0.5189\n",
      "Epoch 413/1000\n",
      "4/4 [==============================] - 0s 3ms/step - loss: 1.0524 - val_loss: 0.5198\n",
      "Epoch 414/1000\n",
      "4/4 [==============================] - 0s 2ms/step - loss: 1.0482 - val_loss: 0.5386\n",
      "Epoch 415/1000\n",
      "4/4 [==============================] - 0s 6ms/step - loss: 1.0460 - val_loss: 0.5577\n",
      "Epoch 416/1000\n",
      "4/4 [==============================] - 0s 4ms/step - loss: 1.0463 - val_loss: 0.5793\n",
      "Epoch 417/1000\n",
      "4/4 [==============================] - 0s 5ms/step - loss: 1.0550 - val_loss: 0.5958\n",
      "Epoch 418/1000\n",
      "4/4 [==============================] - 0s 5ms/step - loss: 1.0523 - val_loss: 0.5880\n",
      "Epoch 419/1000\n",
      "4/4 [==============================] - 0s 5ms/step - loss: 1.0501 - val_loss: 0.5654\n",
      "Epoch 420/1000\n",
      "4/4 [==============================] - 0s 6ms/step - loss: 1.0495 - val_loss: 0.5593\n",
      "Epoch 421/1000\n",
      "4/4 [==============================] - 0s 4ms/step - loss: 1.0557 - val_loss: 0.5298\n",
      "Epoch 422/1000\n",
      "4/4 [==============================] - 0s 5ms/step - loss: 1.0478 - val_loss: 0.5360\n",
      "Epoch 423/1000\n",
      "4/4 [==============================] - 0s 3ms/step - loss: 1.0507 - val_loss: 0.5503\n",
      "Epoch 424/1000\n",
      "4/4 [==============================] - 0s 3ms/step - loss: 1.0464 - val_loss: 0.5453\n",
      "Epoch 425/1000\n",
      "4/4 [==============================] - 0s 5ms/step - loss: 1.0464 - val_loss: 0.5413\n",
      "Epoch 426/1000\n",
      "4/4 [==============================] - 0s 5ms/step - loss: 1.0468 - val_loss: 0.5410\n",
      "Epoch 427/1000\n",
      "4/4 [==============================] - 0s 3ms/step - loss: 1.0472 - val_loss: 0.5409\n",
      "Epoch 428/1000\n",
      "4/4 [==============================] - 0s 4ms/step - loss: 1.0492 - val_loss: 0.5365\n",
      "Epoch 429/1000\n",
      "4/4 [==============================] - 0s 4ms/step - loss: 1.0466 - val_loss: 0.5555\n",
      "Epoch 430/1000\n",
      "4/4 [==============================] - 0s 6ms/step - loss: 1.0459 - val_loss: 0.5716\n",
      "Epoch 431/1000\n",
      "4/4 [==============================] - 0s 5ms/step - loss: 1.0484 - val_loss: 0.5783\n",
      "Epoch 432/1000\n",
      "4/4 [==============================] - 0s 3ms/step - loss: 1.0491 - val_loss: 0.5729\n",
      "Epoch 433/1000\n",
      "4/4 [==============================] - 0s 3ms/step - loss: 1.0469 - val_loss: 0.5536\n",
      "Epoch 434/1000\n",
      "4/4 [==============================] - 0s 5ms/step - loss: 1.0477 - val_loss: 0.5418\n",
      "Epoch 435/1000\n",
      "4/4 [==============================] - 0s 5ms/step - loss: 1.0478 - val_loss: 0.5520\n",
      "Epoch 436/1000\n",
      "4/4 [==============================] - ETA: 0s - loss: 0.482 - 0s 5ms/step - loss: 1.0470 - val_loss: 0.5482\n",
      "Epoch 437/1000\n",
      "4/4 [==============================] - 0s 4ms/step - loss: 1.0497 - val_loss: 0.5339\n",
      "Epoch 438/1000\n",
      "4/4 [==============================] - 0s 5ms/step - loss: 1.0477 - val_loss: 0.5387\n",
      "Epoch 439/1000\n",
      "4/4 [==============================] - 0s 5ms/step - loss: 1.0476 - val_loss: 0.5474\n",
      "Epoch 440/1000\n",
      "4/4 [==============================] - 0s 5ms/step - loss: 1.0477 - val_loss: 0.5558\n",
      "Epoch 441/1000\n",
      "4/4 [==============================] - 0s 3ms/step - loss: 1.0475 - val_loss: 0.5565\n",
      "Epoch 442/1000\n",
      "4/4 [==============================] - 0s 5ms/step - loss: 1.0476 - val_loss: 0.5490\n",
      "Epoch 443/1000\n",
      "4/4 [==============================] - 0s 5ms/step - loss: 1.0473 - val_loss: 0.5474\n",
      "Epoch 444/1000\n",
      "4/4 [==============================] - 0s 5ms/step - loss: 1.0467 - val_loss: 0.5523\n",
      "Epoch 445/1000\n",
      "4/4 [==============================] - 0s 2ms/step - loss: 1.0471 - val_loss: 0.5517\n",
      "Epoch 446/1000\n",
      "4/4 [==============================] - 0s 5ms/step - loss: 1.0475 - val_loss: 0.5567\n",
      "Epoch 447/1000\n",
      "4/4 [==============================] - 0s 3ms/step - loss: 1.0465 - val_loss: 0.5482\n",
      "Epoch 448/1000\n",
      "4/4 [==============================] - 0s 4ms/step - loss: 1.0478 - val_loss: 0.5475\n",
      "Epoch 449/1000\n",
      "4/4 [==============================] - 0s 2ms/step - loss: 1.0529 - val_loss: 0.5275\n",
      "Epoch 450/1000\n",
      "4/4 [==============================] - ETA: 0s - loss: 1.799 - 0s 7ms/step - loss: 1.0503 - val_loss: 0.5298\n",
      "Epoch 451/1000\n",
      "4/4 [==============================] - 0s 3ms/step - loss: 1.0481 - val_loss: 0.5501\n",
      "Epoch 452/1000\n",
      "4/4 [==============================] - 0s 6ms/step - loss: 1.0469 - val_loss: 0.5679\n",
      "Epoch 453/1000\n",
      "4/4 [==============================] - 0s 4ms/step - loss: 1.0482 - val_loss: 0.5768\n",
      "Epoch 454/1000\n",
      "4/4 [==============================] - 0s 6ms/step - loss: 1.0483 - val_loss: 0.5763\n",
      "Epoch 455/1000\n",
      "4/4 [==============================] - 0s 4ms/step - loss: 1.0491 - val_loss: 0.5634\n",
      "Epoch 456/1000\n",
      "4/4 [==============================] - 0s 5ms/step - loss: 1.0482 - val_loss: 0.5513\n",
      "Epoch 457/1000\n",
      "4/4 [==============================] - 0s 2ms/step - loss: 1.0510 - val_loss: 0.5392\n",
      "Epoch 458/1000\n",
      "4/4 [==============================] - 0s 2ms/step - loss: 1.0472 - val_loss: 0.5396\n",
      "Epoch 459/1000\n",
      "4/4 [==============================] - 0s 5ms/step - loss: 1.0490 - val_loss: 0.5479\n",
      "Epoch 460/1000\n",
      "4/4 [==============================] - 0s 5ms/step - loss: 1.0473 - val_loss: 0.5457\n",
      "Epoch 461/1000\n",
      "4/4 [==============================] - 0s 3ms/step - loss: 1.0467 - val_loss: 0.5589\n",
      "Epoch 462/1000\n",
      "4/4 [==============================] - 0s 3ms/step - loss: 1.0469 - val_loss: 0.5590\n",
      "Epoch 463/1000\n",
      "4/4 [==============================] - 0s 6ms/step - loss: 1.0474 - val_loss: 0.5478\n",
      "Epoch 464/1000\n",
      "4/4 [==============================] - 0s 4ms/step - loss: 1.0470 - val_loss: 0.5475\n",
      "Epoch 465/1000\n",
      "4/4 [==============================] - 0s 5ms/step - loss: 1.0543 - val_loss: 0.5354\n",
      "Epoch 466/1000\n",
      "4/4 [==============================] - 0s 4ms/step - loss: 1.0477 - val_loss: 0.5400\n",
      "Epoch 467/1000\n",
      "4/4 [==============================] - 0s 6ms/step - loss: 1.0465 - val_loss: 0.5579\n",
      "Epoch 468/1000\n",
      "4/4 [==============================] - 0s 5ms/step - loss: 1.0455 - val_loss: 0.5747\n",
      "Epoch 469/1000\n",
      "4/4 [==============================] - 0s 5ms/step - loss: 1.0520 - val_loss: 0.5944\n",
      "Epoch 470/1000\n",
      "4/4 [==============================] - 0s 5ms/step - loss: 1.0516 - val_loss: 0.5775\n",
      "Epoch 471/1000\n",
      "4/4 [==============================] - 0s 5ms/step - loss: 1.0486 - val_loss: 0.5601\n",
      "Epoch 472/1000\n",
      "4/4 [==============================] - 0s 4ms/step - loss: 1.0470 - val_loss: 0.5509\n",
      "Epoch 473/1000\n",
      "4/4 [==============================] - 0s 5ms/step - loss: 1.0466 - val_loss: 0.5263\n",
      "Epoch 474/1000\n",
      "4/4 [==============================] - 0s 5ms/step - loss: 1.0524 - val_loss: 0.5148\n",
      "Epoch 475/1000\n",
      "4/4 [==============================] - 0s 7ms/step - loss: 1.0527 - val_loss: 0.5233\n",
      "Epoch 476/1000\n",
      "4/4 [==============================] - 0s 5ms/step - loss: 1.0490 - val_loss: 0.5364\n",
      "Epoch 477/1000\n",
      "4/4 [==============================] - 0s 6ms/step - loss: 1.0503 - val_loss: 0.5521\n",
      "Epoch 478/1000\n",
      "4/4 [==============================] - 0s 5ms/step - loss: 1.0467 - val_loss: 0.5477\n",
      "Epoch 479/1000\n",
      "4/4 [==============================] - 0s 5ms/step - loss: 1.0496 - val_loss: 0.5518\n",
      "Epoch 480/1000\n",
      "4/4 [==============================] - ETA: 0s - loss: 0.446 - 0s 5ms/step - loss: 1.0434 - val_loss: 0.5960\n",
      "Epoch 481/1000\n",
      "4/4 [==============================] - 0s 5ms/step - loss: 1.0566 - val_loss: 0.6418\n",
      "Epoch 482/1000\n",
      "4/4 [==============================] - 0s 1ms/step - loss: 1.0626 - val_loss: 0.6178\n",
      "Epoch 483/1000\n",
      "4/4 [==============================] - 0s 2ms/step - loss: 1.0602 - val_loss: 0.5779\n",
      "Epoch 484/1000\n",
      "4/4 [==============================] - 0s 5ms/step - loss: 1.0471 - val_loss: 0.5571\n",
      "Epoch 485/1000\n",
      "4/4 [==============================] - 0s 5ms/step - loss: 1.0448 - val_loss: 0.5399\n",
      "Epoch 486/1000\n",
      "4/4 [==============================] - 0s 2ms/step - loss: 1.0487 - val_loss: 0.5192\n"
     ]
    },
    {
     "name": "stdout",
     "output_type": "stream",
     "text": [
      "Epoch 487/1000\n",
      "4/4 [==============================] - 0s 5ms/step - loss: 1.0526 - val_loss: 0.5222\n",
      "Epoch 488/1000\n",
      "4/4 [==============================] - 0s 5ms/step - loss: 1.0508 - val_loss: 0.5477\n",
      "Epoch 489/1000\n",
      "4/4 [==============================] - 0s 2ms/step - loss: 1.0466 - val_loss: 0.5682\n",
      "Epoch 490/1000\n",
      "4/4 [==============================] - 0s 2ms/step - loss: 1.0478 - val_loss: 0.5810\n",
      "Epoch 491/1000\n",
      "4/4 [==============================] - 0s 5ms/step - loss: 1.0490 - val_loss: 0.5781\n",
      "Epoch 492/1000\n",
      "4/4 [==============================] - 0s 5ms/step - loss: 1.0483 - val_loss: 0.5717\n",
      "Epoch 493/1000\n",
      "4/4 [==============================] - 0s 4ms/step - loss: 1.0564 - val_loss: 0.5420\n",
      "Epoch 494/1000\n",
      "4/4 [==============================] - 0s 3ms/step - loss: 1.0477 - val_loss: 0.5513\n",
      "Epoch 495/1000\n",
      "4/4 [==============================] - 0s 5ms/step - loss: 1.0464 - val_loss: 0.5561\n",
      "Epoch 496/1000\n",
      "1/4 [======>.......................] - ETA: 0s - loss: 0.5630Restoring model weights from the end of the best epoch.\n",
      "4/4 [==============================] - 0s 5ms/step - loss: 1.0479 - val_loss: 0.5608\n",
      "Epoch 00496: early stopping\n"
     ]
    },
    {
     "data": {
      "text/plain": [
       "<tensorflow.python.keras.callbacks.History at 0x158a9886c08>"
      ]
     },
     "execution_count": 34,
     "metadata": {},
     "output_type": "execute_result"
    }
   ],
   "source": [
    "model.fit(x=X_tr_scaled, \n",
    "          y=y_tr, \n",
    "          epochs=1000,\n",
    "          validation_data=(X_val_scaled, y_val), verbose=1,\n",
    "          callbacks=[early_stop]\n",
    "          )"
   ]
  },
  {
   "cell_type": "code",
   "execution_count": 35,
   "metadata": {},
   "outputs": [
    {
     "data": {
      "text/plain": [
       "<matplotlib.axes._subplots.AxesSubplot at 0x158a991bd48>"
      ]
     },
     "execution_count": 35,
     "metadata": {},
     "output_type": "execute_result"
    },
    {
     "data": {
      "image/png": "[encoded data removed]",
      "text/plain": [
       "<Figure size 640x480 with 1 Axes>"
      ]
     },
     "metadata": {},
     "output_type": "display_data"
    }
   ],
   "source": [
    "model_loss = pd.DataFrame(model.history.history)\n",
    "model_loss.plot()"
   ]
  },
  {
   "cell_type": "code",
   "execution_count": 36,
   "metadata": {},
   "outputs": [],
   "source": [
    "predictions = model.predict(X_test_scaled)"
   ]
  },
  {
   "cell_type": "code",
   "execution_count": 37,
   "metadata": {},
   "outputs": [
    {
     "data": {
      "text/plain": [
       "1.0904785462997213"
      ]
     },
     "execution_count": 37,
     "metadata": {},
     "output_type": "execute_result"
    }
   ],
   "source": [
    "np.sqrt(MSE(y_test, predictions))"
   ]
  },
  {
   "cell_type": "code",
   "execution_count": 38,
   "metadata": {},
   "outputs": [
    {
     "data": {
      "text/plain": [
       "0.6579357082560912"
      ]
     },
     "execution_count": 38,
     "metadata": {},
     "output_type": "execute_result"
    }
   ],
   "source": [
    "MAE(y_test, predictions)"
   ]
  },
  {
   "cell_type": "code",
   "execution_count": 39,
   "metadata": {},
   "outputs": [
    {
     "data": {
      "text/plain": [
       "0.8937468970673295"
      ]
     },
     "execution_count": 39,
     "metadata": {},
     "output_type": "execute_result"
    }
   ],
   "source": [
    "r2_score(y_test, predictions)"
   ]
  },
  {
   "cell_type": "code",
   "execution_count": 40,
   "metadata": {},
   "outputs": [
    {
     "name": "stdout",
     "output_type": "stream",
     "text": [
      "R2 score of training data is: 0.9059\n",
      "\n",
      "RMSE of training data is: 1.0262\n",
      "\n",
      "MAE of training data is: 0.6341\n"
     ]
    }
   ],
   "source": [
    "predictions1 = model.predict(X_tr_scaled)\n",
    "print(\"R2 score of training data is: {:0.4f}\".format(r2_score(y_tr,predictions1)))\n",
    "print(\"\\nRMSE of training data is: {:0.4f}\".format(MSE(y_tr,predictions1)**0.5))\n",
    "print(\"\\nMAE of training data is: {:0.4f}\".format(MAE(y_tr,predictions1)))"
   ]
  },
  {
   "cell_type": "code",
   "execution_count": 41,
   "metadata": {},
   "outputs": [
    {
     "data": {
      "text/plain": [
       "[<matplotlib.lines.Line2D at 0x158a9951a88>]"
      ]
     },
     "execution_count": 41,
     "metadata": {},
     "output_type": "execute_result"
    },
    {
     "data": {
      "image/png": "[encoded data removed]",
      "text/plain": [
       "<Figure size 640x480 with 1 Axes>"
      ]
     },
     "metadata": {},
     "output_type": "display_data"
    }
   ],
   "source": [
    "plt.scatter(y_test,predictions)\n",
    "plt.plot(y_test,y_test)"
   ]
  },
  {
   "cell_type": "code",
   "execution_count": 42,
   "metadata": {},
   "outputs": [
    {
     "data": {
      "text/plain": [
       "'ann_train = pd.DataFrame(predictions1)\\nann_test = pd.DataFrame(predictions)\\ny_tr = pd.DataFrame(y_tr)\\n\\nann_train.to_excel(\"ann_train_new.xlsx\")\\nann_test.to_excel(\"ann_test_new.xlsx\")\\ny_tr.to_excel(\"y_tr.xlsx\")'"
      ]
     },
     "execution_count": 42,
     "metadata": {},
     "output_type": "execute_result"
    }
   ],
   "source": [
    "\"\"\"ann_train = pd.DataFrame(predictions1)\n",
    "ann_test = pd.DataFrame(predictions)\n",
    "y_tr = pd.DataFrame(y_tr)\n",
    "\n",
    "ann_train.to_excel(\"ann_train_new.xlsx\")\n",
    "ann_test.to_excel(\"ann_test_new.xlsx\")\n",
    "y_tr.to_excel(\"y_tr.xlsx\")\"\"\""
   ]
  },
  {
   "cell_type": "code",
   "execution_count": null,
   "metadata": {},
   "outputs": [],
   "source": []
  },
  {
   "cell_type": "code",
   "execution_count": null,
   "metadata": {},
   "outputs": [],
   "source": []
  },
  {
   "cell_type": "code",
   "execution_count": 43,
   "metadata": {},
   "outputs": [
    {
     "data": {
      "text/html": [
       "<div>\n",
       "<style scoped>\n",
       "    .dataframe tbody tr th:only-of-type {\n",
       "        vertical-align: middle;\n",
       "    }\n",
       "\n",
       "    .dataframe tbody tr th {\n",
       "        vertical-align: top;\n",
       "    }\n",
       "\n",
       "    .dataframe thead th {\n",
       "        text-align: right;\n",
       "    }\n",
       "</style>\n",
       "<table border=\"1\" class=\"dataframe\">\n",
       "  <thead>\n",
       "    <tr style=\"text-align: right;\">\n",
       "      <th></th>\n",
       "      <th>SPT-N</th>\n",
       "      <th>SPT-N60</th>\n",
       "      <th>Testing</th>\n",
       "      <th>Wolff</th>\n",
       "      <th>N. Puri</th>\n",
       "      <th>N. Puri_60</th>\n",
       "      <th>Res_LR</th>\n",
       "    </tr>\n",
       "  </thead>\n",
       "  <tbody>\n",
       "    <tr>\n",
       "      <th>0</th>\n",
       "      <td>12.0</td>\n",
       "      <td>7.2</td>\n",
       "      <td>30.0</td>\n",
       "      <td>29.232006</td>\n",
       "      <td>29.8761</td>\n",
       "      <td>28.3761</td>\n",
       "      <td>0.010185</td>\n",
       "    </tr>\n",
       "    <tr>\n",
       "      <th>1</th>\n",
       "      <td>50.0</td>\n",
       "      <td>30.0</td>\n",
       "      <td>39.0</td>\n",
       "      <td>35.614000</td>\n",
       "      <td>41.7511</td>\n",
       "      <td>35.5011</td>\n",
       "      <td>0.920181</td>\n",
       "    </tr>\n",
       "    <tr>\n",
       "      <th>2</th>\n",
       "      <td>10.0</td>\n",
       "      <td>6.0</td>\n",
       "      <td>29.5</td>\n",
       "      <td>28.880560</td>\n",
       "      <td>29.2511</td>\n",
       "      <td>28.0011</td>\n",
       "      <td>-0.113562</td>\n",
       "    </tr>\n",
       "    <tr>\n",
       "      <th>3</th>\n",
       "      <td>19.0</td>\n",
       "      <td>11.4</td>\n",
       "      <td>31.0</td>\n",
       "      <td>30.449822</td>\n",
       "      <td>32.0636</td>\n",
       "      <td>29.6886</td>\n",
       "      <td>-0.491249</td>\n",
       "    </tr>\n",
       "    <tr>\n",
       "      <th>4</th>\n",
       "      <td>23.0</td>\n",
       "      <td>13.8</td>\n",
       "      <td>33.0</td>\n",
       "      <td>31.137162</td>\n",
       "      <td>33.3136</td>\n",
       "      <td>30.4386</td>\n",
       "      <td>0.663971</td>\n",
       "    </tr>\n",
       "  </tbody>\n",
       "</table>\n",
       "</div>"
      ],
      "text/plain": [
       "   SPT-N  SPT-N60  Testing      Wolff  N. Puri  N. Puri_60    Res_LR\n",
       "0   12.0      7.2     30.0  29.232006  29.8761     28.3761  0.010185\n",
       "1   50.0     30.0     39.0  35.614000  41.7511     35.5011  0.920181\n",
       "2   10.0      6.0     29.5  28.880560  29.2511     28.0011 -0.113562\n",
       "3   19.0     11.4     31.0  30.449822  32.0636     29.6886 -0.491249\n",
       "4   23.0     13.8     33.0  31.137162  33.3136     30.4386  0.663971"
      ]
     },
     "execution_count": 43,
     "metadata": {},
     "output_type": "execute_result"
    }
   ],
   "source": [
    "new = pd.read_excel(\"Comparision with others.xlsx\")\n",
    "new.head()"
   ]
  },
  {
   "cell_type": "code",
   "execution_count": 44,
   "metadata": {},
   "outputs": [
    {
     "data": {
      "text/html": [
       "<div>\n",
       "<style scoped>\n",
       "    .dataframe tbody tr th:only-of-type {\n",
       "        vertical-align: middle;\n",
       "    }\n",
       "\n",
       "    .dataframe tbody tr th {\n",
       "        vertical-align: top;\n",
       "    }\n",
       "\n",
       "    .dataframe thead th {\n",
       "        text-align: right;\n",
       "    }\n",
       "</style>\n",
       "<table border=\"1\" class=\"dataframe\">\n",
       "  <thead>\n",
       "    <tr style=\"text-align: right;\">\n",
       "      <th></th>\n",
       "      <th>SPT-N</th>\n",
       "      <th>SPT-N60</th>\n",
       "      <th>Testing</th>\n",
       "      <th>Wolff</th>\n",
       "      <th>N. Puri</th>\n",
       "      <th>N. Puri_60</th>\n",
       "      <th>Res_LR</th>\n",
       "      <th>Res_Wolff</th>\n",
       "      <th>Res_N. Puri</th>\n",
       "    </tr>\n",
       "  </thead>\n",
       "  <tbody>\n",
       "    <tr>\n",
       "      <th>0</th>\n",
       "      <td>12.0</td>\n",
       "      <td>7.2</td>\n",
       "      <td>30.0</td>\n",
       "      <td>29.232006</td>\n",
       "      <td>29.8761</td>\n",
       "      <td>28.3761</td>\n",
       "      <td>0.010185</td>\n",
       "      <td>0.767994</td>\n",
       "      <td>0.1239</td>\n",
       "    </tr>\n",
       "    <tr>\n",
       "      <th>1</th>\n",
       "      <td>50.0</td>\n",
       "      <td>30.0</td>\n",
       "      <td>39.0</td>\n",
       "      <td>35.614000</td>\n",
       "      <td>41.7511</td>\n",
       "      <td>35.5011</td>\n",
       "      <td>0.920181</td>\n",
       "      <td>3.386000</td>\n",
       "      <td>-2.7511</td>\n",
       "    </tr>\n",
       "    <tr>\n",
       "      <th>2</th>\n",
       "      <td>10.0</td>\n",
       "      <td>6.0</td>\n",
       "      <td>29.5</td>\n",
       "      <td>28.880560</td>\n",
       "      <td>29.2511</td>\n",
       "      <td>28.0011</td>\n",
       "      <td>-0.113562</td>\n",
       "      <td>0.619440</td>\n",
       "      <td>0.2489</td>\n",
       "    </tr>\n",
       "    <tr>\n",
       "      <th>3</th>\n",
       "      <td>19.0</td>\n",
       "      <td>11.4</td>\n",
       "      <td>31.0</td>\n",
       "      <td>30.449822</td>\n",
       "      <td>32.0636</td>\n",
       "      <td>29.6886</td>\n",
       "      <td>-0.491249</td>\n",
       "      <td>0.550178</td>\n",
       "      <td>-1.0636</td>\n",
       "    </tr>\n",
       "    <tr>\n",
       "      <th>4</th>\n",
       "      <td>23.0</td>\n",
       "      <td>13.8</td>\n",
       "      <td>33.0</td>\n",
       "      <td>31.137162</td>\n",
       "      <td>33.3136</td>\n",
       "      <td>30.4386</td>\n",
       "      <td>0.663971</td>\n",
       "      <td>1.862838</td>\n",
       "      <td>-0.3136</td>\n",
       "    </tr>\n",
       "  </tbody>\n",
       "</table>\n",
       "</div>"
      ],
      "text/plain": [
       "   SPT-N  SPT-N60  Testing      Wolff  N. Puri  N. Puri_60    Res_LR  \\\n",
       "0   12.0      7.2     30.0  29.232006  29.8761     28.3761  0.010185   \n",
       "1   50.0     30.0     39.0  35.614000  41.7511     35.5011  0.920181   \n",
       "2   10.0      6.0     29.5  28.880560  29.2511     28.0011 -0.113562   \n",
       "3   19.0     11.4     31.0  30.449822  32.0636     29.6886 -0.491249   \n",
       "4   23.0     13.8     33.0  31.137162  33.3136     30.4386  0.663971   \n",
       "\n",
       "   Res_Wolff  Res_N. Puri  \n",
       "0   0.767994       0.1239  \n",
       "1   3.386000      -2.7511  \n",
       "2   0.619440       0.2489  \n",
       "3   0.550178      -1.0636  \n",
       "4   1.862838      -0.3136  "
      ]
     },
     "execution_count": 44,
     "metadata": {},
     "output_type": "execute_result"
    }
   ],
   "source": [
    "new[\"Res_Wolff\"] = new[\"Testing\"] - new[\"Wolff\"]\n",
    "new[\"Res_N. Puri\"] = new[\"Testing\"] - new[\"N. Puri\"]\n",
    "new.head()"
   ]
  },
  {
   "cell_type": "code",
   "execution_count": 45,
   "metadata": {},
   "outputs": [
    {
     "data": {
      "image/png": "[encoded data removed]",
      "text/plain": [
       "<Figure size 288x200 with 1 Axes>"
      ]
     },
     "metadata": {},
     "output_type": "display_data"
    }
   ],
   "source": [
    "import matplotlib as mpl\n",
    "mpl.style.use('classic')\n",
    "mpl.rcParams['font.size'] = 8\n",
    "fig, ax = plt.subplots()\n",
    "fig.set_size_inches(3.6, 2.5)\n",
    "\n",
    "ax.scatter(new[\"Testing\"], new[\"Wolff\"], c = \"k\")\n",
    "plt.plot(new[\"Testing\"], new[\"Testing\"], c = \"k\", linewidth = 2)\n",
    "ax.set(ylabel = \"Predicted Phi (degree)\", xlabel = \"Actrual Phi (degree)\")\n",
    "fig.patch.set_facecolor(\"White\")\n",
    "#ax.tick_params(length = 4, width = 2)\n",
    "#fig.savefig(\"Wolff scatter.jpg\", dpi = 600, transparent=True, bbox_inches=\"tight\")"
   ]
  },
  {
   "cell_type": "code",
   "execution_count": 46,
   "metadata": {},
   "outputs": [
    {
     "data": {
      "image/png": "[encoded data removed]",
      "text/plain": [
       "<Figure size 288x200 with 1 Axes>"
      ]
     },
     "metadata": {},
     "output_type": "display_data"
    }
   ],
   "source": [
    "import matplotlib as mpl\n",
    "mpl.style.use('classic')\n",
    "mpl.rcParams['font.size'] = 8\n",
    "fig, ax = plt.subplots()\n",
    "fig.set_size_inches(3.6, 2.5)\n",
    "\n",
    "ax.scatter(new[\"Testing\"], new[\"Wolff\"], c = \"k\")\n",
    "plt.plot(new[\"Testing\"], new[\"Testing\"], c = \"k\", linewidth = 2)\n",
    "ax.set(ylabel = \"Predicted Phi (degree)\", xlabel = \"Actrual Phi (degree)\")\n",
    "fig.patch.set_facecolor(\"White\")\n",
    "#ax.tick_params(length = 4, width = 2)\n",
    "#fig.savefig(\"Wolff scatter.jpg\", dpi = 600, transparent=True, bbox_inches=\"tight\")"
   ]
  },
  {
   "cell_type": "code",
   "execution_count": 47,
   "metadata": {},
   "outputs": [
    {
     "data": {
      "image/png": "[encoded data removed]",
      "text/plain": [
       "<Figure size 288x200 with 1 Axes>"
      ]
     },
     "metadata": {},
     "output_type": "display_data"
    }
   ],
   "source": [
    "fig, ax = plt.subplots()\n",
    "fig.set_size_inches(3.6, 2.5)\n",
    "\n",
    "ax.scatter(new[\"Testing\"], new[\"N. Puri\"], c = \"k\")\n",
    "plt.plot(new[\"Testing\"], new[\"Testing\"], c = \"k\", linewidth = 2)\n",
    "ax.set(ylabel = \"Predicted Phi (degree)\", xlabel = \"Actrual Phi (degree)\")\n",
    "fig.patch.set_facecolor(\"White\")\n",
    "#ax.tick_params(length = 4, width = 2)\n",
    "#fig.savefig(\"N. Puri scatter.jpg\", dpi = 600, transparent=True, bbox_inches=\"tight\")"
   ]
  },
  {
   "cell_type": "code",
   "execution_count": 48,
   "metadata": {},
   "outputs": [
    {
     "data": {
      "text/plain": [
       "<matplotlib.legend.Legend at 0x158aade0f88>"
      ]
     },
     "execution_count": 48,
     "metadata": {},
     "output_type": "execute_result"
    },
    {
     "data": {
      "image/png": "[encoded data removed]",
      "text/plain": [
       "<Figure size 288x200 with 1 Axes>"
      ]
     },
     "metadata": {},
     "output_type": "display_data"
    }
   ],
   "source": [
    "fig, ax = plt.subplots()\n",
    "fig.set_size_inches(3.6, 2.5)\n",
    "\n",
    "ax.scatter(new[\"Testing\"], new[\"Wolff\"], color = \"black\", label = \"Wolff\")\n",
    "ax.scatter(new[\"Testing\"], new[\"N. Puri\"], color = \"white\", edgecolors = \"black\",label = \"Nitish Puri\")\n",
    "plt.plot(new[\"Testing\"], new[\"Testing\"], c = \"k\", linewidth = 2)\n",
    "ax.set(ylabel = \"Predicted $\\Phi$ (degree)\", xlabel = \"Actrual $\\Phi$ (degree)\")\n",
    "fig.patch.set_facecolor(\"White\")\n",
    "#ax.tick_params(length = 4, width = 2)\n",
    "ax.legend(loc = 2, prop = {\"size\" : 8})\n",
    "#fig.savefig(\"Wolf_fN. Puri scatter.jpg\", dpi = 600, transparent=True, bbox_inches=\"tight\")"
   ]
  },
  {
   "cell_type": "code",
   "execution_count": 49,
   "metadata": {},
   "outputs": [
    {
     "name": "stdout",
     "output_type": "stream",
     "text": [
      "R2 score of Wolff is: 0.6664\n",
      "\n",
      "RMSE of Wolff is: 1.9324\n",
      "\n",
      "MAE of Wolff is: 1.3978\n"
     ]
    }
   ],
   "source": [
    "print(\"R2 score of Wolff is: {:0.4f}\".format(r2_score(new[\"Testing\"], new[\"Wolff\"])))\n",
    "print(\"\\nRMSE of Wolff is: {:0.4f}\".format(MSE(new[\"Testing\"], new[\"Wolff\"])**0.5))\n",
    "print(\"\\nMAE of Wolff is: {:0.4f}\".format(MAE(new[\"Testing\"], new[\"Wolff\"])))"
   ]
  },
  {
   "cell_type": "code",
   "execution_count": 50,
   "metadata": {},
   "outputs": [
    {
     "name": "stdout",
     "output_type": "stream",
     "text": [
      "R2 score of N.Puri is: 0.7204\n",
      "\n",
      "RMSE of N.Puri is: 1.7689\n",
      "\n",
      "MAE of N.Puri is: 1.2737\n"
     ]
    }
   ],
   "source": [
    "print(\"R2 score of N.Puri is: {:0.4f}\".format(r2_score(new[\"Testing\"], new[\"N. Puri\"])))\n",
    "print(\"\\nRMSE of N.Puri is: {:0.4f}\".format(MSE(new[\"Testing\"], new[\"N. Puri\"])**0.5))\n",
    "print(\"\\nMAE of N.Puri is: {:0.4f}\".format(MAE(new[\"Testing\"], new[\"N. Puri\"])))"
   ]
  },
  {
   "cell_type": "code",
   "execution_count": 51,
   "metadata": {},
   "outputs": [
    {
     "data": {
      "text/plain": [
       "<matplotlib.legend.Legend at 0x158aae6ca88>"
      ]
     },
     "execution_count": 51,
     "metadata": {},
     "output_type": "execute_result"
    },
    {
     "data": {
      "image/png": "[encoded data removed]",
      "text/plain": [
       "<Figure size 288x200 with 1 Axes>"
      ]
     },
     "metadata": {},
     "output_type": "display_data"
    }
   ],
   "source": [
    "fig, ax = plt.subplots()\n",
    "fig.set_size_inches(3.6,2.5)\n",
    "plt.hist(new[\"Res_Wolff\"],weights = np.ones(len(new[\"Res_Wolff\"])) / len(new[\"Res_Wolff\"]),\\\n",
    "         color = \"k\",alpha = 0.75, label = \"Wolff\", bins = 20)\n",
    "plt.hist(new[\"Res_N. Puri\"],weights = np.ones(len(new[\"Res_N. Puri\"])) / len(new[\"Res_N. Puri\"]),\\\n",
    "         color = \"w\", alpha = 0.75, hatch = \"\\\\\", label = \"Nitish Puri\", bins = 20)\n",
    "fig.patch.set_facecolor(\"white\")\n",
    "ax.set(ylabel = \"Frequency (%)\", xlabel = \"Residual $\\phi$ (degree)\")\n",
    "ax.legend(loc = 2, prop = {\"size\" : 8})\n",
    "#fig.savefig(\"hist_Wolff_N.Puri.jpg\", dpi = 600, transparent=True, bbox_inches=\"tight\")"
   ]
  },
  {
   "cell_type": "code",
   "execution_count": 52,
   "metadata": {},
   "outputs": [
    {
     "data": {
      "text/plain": [
       "[Text(0, 0.5, 'Frequency (%)'), Text(0.5, 0, 'Residual Phi (degree)')]"
      ]
     },
     "execution_count": 52,
     "metadata": {},
     "output_type": "execute_result"
    },
    {
     "data": {
      "image/png": "[encoded data removed]",
      "text/plain": [
       "<Figure size 288x240 with 1 Axes>"
      ]
     },
     "metadata": {},
     "output_type": "display_data"
    }
   ],
   "source": [
    "fig, ax = plt.subplots()\n",
    "fig.set_size_inches(3.6,3)\n",
    "plt.hist(new[\"Res_N. Puri\"],weights = np.ones(len(new[\"Res_N. Puri\"])) / len(new[\"Res_N. Puri\"]),color = \"grey\", bins = 20)\n",
    "fig.patch.set_facecolor(\"white\")\n",
    "ax.set(ylabel = \"Frequency (%)\", xlabel = \"Residual Phi (degree)\")\n",
    "#fig.savefig(\"res_N. Puri.jpg\", dpi = 600, transparent=True, bbox_inches=\"tight\")"
   ]
  },
  {
   "cell_type": "code",
   "execution_count": 53,
   "metadata": {},
   "outputs": [
    {
     "data": {
      "image/png": "[encoded data removed]",
      "text/plain": [
       "<Figure size 288x200 with 1 Axes>"
      ]
     },
     "metadata": {},
     "output_type": "display_data"
    }
   ],
   "source": [
    "fig, ax = plt.subplots(figsize = (3.6,2.5))\n",
    "#fig.set_size_inches(3.5,3)\n",
    "\n",
    "ax.scatter(new[\"Testing\"], new[\"Res_Wolff\"], c = \"k\", label = \"Testing Data\")\n",
    "#ax.scatter(new[\"Testing\"], new[\"Res_Wolff\"], c = \"w\", label = \"Training Data\")\n",
    "ax.set(ylabel = \"Residuals (degree)\", xlabel = \"Actual Phi (degree)\")\n",
    "#ax.legend(loc = 2, prop = {\"size\" : 8})\n",
    "plt.axhline(y=0, color='k', linestyle='-', linewidth = 1)\n",
    "fig.patch.set_facecolor(\"White\")\n",
    "#ax.tick_params(length = 4, width = 1)\n",
    "#fig.savefig(\"res_Wolff.jpg\", dpi = 600, transparent=True, bbox_inches=\"tight\")"
   ]
  },
  {
   "cell_type": "code",
   "execution_count": 54,
   "metadata": {},
   "outputs": [
    {
     "data": {
      "image/png": "[encoded data removed]",
      "text/plain": [
       "<Figure size 288x200 with 1 Axes>"
      ]
     },
     "metadata": {},
     "output_type": "display_data"
    }
   ],
   "source": [
    "fig, ax = plt.subplots(figsize = (3.6,2.5))\n",
    "#fig.set_size_inches(3.5,3)\n",
    "\n",
    "ax.scatter(new[\"Testing\"], new[\"Res_Wolff\"], c = \"k\", label = \"Wolff\")\n",
    "ax.scatter(new[\"Testing\"], new[\"Res_N. Puri\"], c = \"w\", label = \"Nitish Puri\")\n",
    "#ax.scatter(new[\"Testing\"], new[\"Res_Wolff\"], c = \"w\", label = \"Training Data\")\n",
    "ax.set(ylabel = \"Residuals (degree)\", xlabel = \"Actual $\\Phi$ (degree)\")\n",
    "ax.legend(loc = 2, prop = {\"size\" : 8})\n",
    "plt.axhline(y=0, color='k', linestyle='-', linewidth = 1)\n",
    "fig.patch.set_facecolor(\"White\")\n",
    "#ax.tick_params(length = 4, width = 1)\n",
    "#fig.savefig(\"res_Wolff_N.Puri.jpg\", dpi = 600, transparent=True, bbox_inches=\"tight\")"
   ]
  },
  {
   "cell_type": "code",
   "execution_count": 55,
   "metadata": {},
   "outputs": [
    {
     "data": {
      "image/png": "[encoded data removed]",
      "text/plain": [
       "<Figure size 288x200 with 1 Axes>"
      ]
     },
     "metadata": {},
     "output_type": "display_data"
    }
   ],
   "source": [
    "fig, ax = plt.subplots(figsize = (3.6,2.5))\n",
    "#fig.set_size_inches(3.5,3)\n",
    "\n",
    "ax.scatter(new[\"Testing\"], new[\"Res_N. Puri\"], c = \"k\", label = \"Testing Data\")\n",
    "#ax.scatter(new[\"Testing\"], new[\"Res_Wolff\"], c = \"w\", label = \"Training Data\")\n",
    "ax.set(ylabel = \"Residuals (degree)\", xlabel = \"Actual Phi (degree)\")\n",
    "#ax.legend(loc = 2, prop = {\"size\" : 8})\n",
    "plt.axhline(y=0, color='k', linestyle='-', linewidth = 1)\n",
    "fig.patch.set_facecolor(\"White\")\n",
    "#ax.tick_params(length = 4, width = 1)\n",
    "#fig.savefig(\"res_N. Puri.jpg\", dpi = 600, transparent=True, bbox_inches=\"tight\")"
   ]
  },
  {
   "cell_type": "code",
   "execution_count": 56,
   "metadata": {},
   "outputs": [
    {
     "name": "stdout",
     "output_type": "stream",
     "text": [
      "2.5% of Res_Wolff is: -0.0276\n",
      "97.5% of Res_Wolff is: 4.4763\n",
      "\n",
      "2.5% of Res_N. Puri is: -4.0261\n",
      "97.5% of Res_N. Puri is: 2.5145\n",
      "\n"
     ]
    }
   ],
   "source": [
    "for i in [\"Res_Wolff\", \"Res_N. Puri\"]:\n",
    "    print(\"2.5% of {} is: {:0.4f}\".format(i,new[i].quantile(.025)))\n",
    "    print(\"97.5% of {} is: {:0.4f}\\n\".format(i,new[i].quantile(.975)))"
   ]
  },
  {
   "cell_type": "code",
   "execution_count": 57,
   "metadata": {},
   "outputs": [
    {
     "data": {
      "image/png": "[encoded data removed]",
      "text/plain": [
       "<Figure size 480x200 with 1 Axes>"
      ]
     },
     "metadata": {},
     "output_type": "display_data"
    }
   ],
   "source": [
    "fig, ax = plt.subplots(figsize = (6,2.5))\n",
    "i = np.arange(1,60)\n",
    "#plt.bar(i, new[\"Res_LR\"], label = \"This Study\")\n",
    "plt.bar(i, new[\"Res_Wolff\"], label = \"Wolff\", color = \"grey\")\n",
    "plt.bar(i, new[\"Res_N. Puri\"], label = \"Nitish Puri\", color = \"white\")\n",
    "plt.plot(i, new[\"Res_LR\"], label = \"This Study\", color = \"k\", linewidth = 1.5)\n",
    "ax.legend(loc = 1, prop = {\"size\" : 8})\n",
    "plt.axhline(y=0, color='k', linestyle='-', linewidth = 1)\n",
    "fig.patch.set_facecolor(\"White\")\n",
    "#fig.savefig(\"Barplot.jpg\", dpi = 600, transparent=True, bbox_inches=\"tight\")"
   ]
  },
  {
   "cell_type": "code",
   "execution_count": 58,
   "metadata": {},
   "outputs": [
    {
     "data": {
      "text/html": [
       "<div>\n",
       "<style scoped>\n",
       "    .dataframe tbody tr th:only-of-type {\n",
       "        vertical-align: middle;\n",
       "    }\n",
       "\n",
       "    .dataframe tbody tr th {\n",
       "        vertical-align: top;\n",
       "    }\n",
       "\n",
       "    .dataframe thead th {\n",
       "        text-align: right;\n",
       "    }\n",
       "</style>\n",
       "<table border=\"1\" class=\"dataframe\">\n",
       "  <thead>\n",
       "    <tr style=\"text-align: right;\">\n",
       "      <th></th>\n",
       "      <th>SPT-N</th>\n",
       "      <th>SPT-N60</th>\n",
       "      <th>Testing</th>\n",
       "      <th>Wolff</th>\n",
       "      <th>N. Puri</th>\n",
       "      <th>N. Puri_60</th>\n",
       "      <th>Res_LR</th>\n",
       "      <th>Res_Wolff</th>\n",
       "      <th>Res_N. Puri</th>\n",
       "    </tr>\n",
       "  </thead>\n",
       "  <tbody>\n",
       "    <tr>\n",
       "      <th>18</th>\n",
       "      <td>3.0</td>\n",
       "      <td>1.8</td>\n",
       "      <td>27.5</td>\n",
       "      <td>27.638250</td>\n",
       "      <td>27.0636</td>\n",
       "      <td>26.6886</td>\n",
       "      <td>-0.649037</td>\n",
       "      <td>-0.138250</td>\n",
       "      <td>0.4364</td>\n",
       "    </tr>\n",
       "    <tr>\n",
       "      <th>47</th>\n",
       "      <td>4.0</td>\n",
       "      <td>2.4</td>\n",
       "      <td>28.0</td>\n",
       "      <td>27.816890</td>\n",
       "      <td>27.3761</td>\n",
       "      <td>26.8761</td>\n",
       "      <td>-0.337164</td>\n",
       "      <td>0.183110</td>\n",
       "      <td>0.6239</td>\n",
       "    </tr>\n",
       "    <tr>\n",
       "      <th>14</th>\n",
       "      <td>8.0</td>\n",
       "      <td>4.8</td>\n",
       "      <td>28.5</td>\n",
       "      <td>28.527558</td>\n",
       "      <td>28.6261</td>\n",
       "      <td>27.6261</td>\n",
       "      <td>-0.645035</td>\n",
       "      <td>-0.027558</td>\n",
       "      <td>-0.1261</td>\n",
       "    </tr>\n",
       "    <tr>\n",
       "      <th>33</th>\n",
       "      <td>6.0</td>\n",
       "      <td>3.6</td>\n",
       "      <td>28.5</td>\n",
       "      <td>28.173002</td>\n",
       "      <td>28.0011</td>\n",
       "      <td>27.2511</td>\n",
       "      <td>-0.305691</td>\n",
       "      <td>0.326998</td>\n",
       "      <td>0.4989</td>\n",
       "    </tr>\n",
       "    <tr>\n",
       "      <th>10</th>\n",
       "      <td>4.0</td>\n",
       "      <td>2.4</td>\n",
       "      <td>28.5</td>\n",
       "      <td>27.816890</td>\n",
       "      <td>27.3761</td>\n",
       "      <td>26.8761</td>\n",
       "      <td>0.236655</td>\n",
       "      <td>0.683110</td>\n",
       "      <td>1.1239</td>\n",
       "    </tr>\n",
       "  </tbody>\n",
       "</table>\n",
       "</div>"
      ],
      "text/plain": [
       "    SPT-N  SPT-N60  Testing      Wolff  N. Puri  N. Puri_60    Res_LR  \\\n",
       "18    3.0      1.8     27.5  27.638250  27.0636     26.6886 -0.649037   \n",
       "47    4.0      2.4     28.0  27.816890  27.3761     26.8761 -0.337164   \n",
       "14    8.0      4.8     28.5  28.527558  28.6261     27.6261 -0.645035   \n",
       "33    6.0      3.6     28.5  28.173002  28.0011     27.2511 -0.305691   \n",
       "10    4.0      2.4     28.5  27.816890  27.3761     26.8761  0.236655   \n",
       "\n",
       "    Res_Wolff  Res_N. Puri  \n",
       "18  -0.138250       0.4364  \n",
       "47   0.183110       0.6239  \n",
       "14  -0.027558      -0.1261  \n",
       "33   0.326998       0.4989  \n",
       "10   0.683110       1.1239  "
      ]
     },
     "execution_count": 58,
     "metadata": {},
     "output_type": "execute_result"
    }
   ],
   "source": [
    "new1 = new.sort_values(by = \"Testing\")\n",
    "new1.head()"
   ]
  },
  {
   "cell_type": "code",
   "execution_count": 60,
   "metadata": {},
   "outputs": [
    {
     "data": {
      "image/png": "[encoded data removed]",
      "text/plain": [
       "<Figure size 480x200 with 1 Axes>"
      ]
     },
     "metadata": {},
     "output_type": "display_data"
    }
   ],
   "source": [
    "\n",
    "fig, ax = plt.subplots(figsize = (6,2.5))\n",
    "i = np.arange(1,60)\n",
    "#plt.bar(i, new[\"Res_LR\"], label = \"This Study\")\n",
    "plt.bar(i, new1[\"Res_Wolff\"], label = \"Wolff\", color = \"grey\")\n",
    "plt.bar(i, new1[\"Res_N. Puri\"], label = \"Nitish Puri\", color = \"white\")\n",
    "plt.plot(i, new1[\"Res_LR\"], label = \"This Study\", color = \"k\", linewidth = 1.5)\n",
    "ax.set(ylabel = \"Residuals (degree)\", xlabel = \"Actual $\\Phi$ (degree)\")\n",
    "ax.legend(loc = 2, prop = {\"size\" : 8})\n",
    "plt.axhline(y=0, color='k', linestyle='-', linewidth = 1)\n",
    "fig.patch.set_facecolor(\"White\")\n",
    "plt.xticks([0,10,20,30,40,50,60],[27.5,29,30.5,31.5,33,37.5,40])\n",
    "#fig.savefig(\"Barplot.jpg\", dpi = 600, transparent=True, bbox_inches=\"tight\")"
   ]
  },
  {
   "cell_type": "code",
   "execution_count": null,
   "metadata": {},
   "outputs": [],
   "source": []
  },
  {
   "cell_type": "code",
   "execution_count": null,
   "metadata": {},
   "outputs": [],
   "source": []
  },
  {
   "cell_type": "code",
   "execution_count": null,
   "metadata": {},
   "outputs": [],
   "source": []
  }
 ],
 "metadata": {
  "kernelspec": {
   "display_name": "Python 3",
   "language": "python",
   "name": "python3"
  },
  "language_info": {
   "codemirror_mode": {
    "name": "ipython",
    "version": 3
   },
   "file_extension": ".py",
   "mimetype": "text/x-python",
   "name": "python",
   "nbconvert_exporter": "python",
   "pygments_lexer": "ipython3",
   "version": "3.7.6"
  }
 },
 "nbformat": 4,
 "nbformat_minor": 4
}
