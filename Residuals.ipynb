{
 "cells": [
  {
   "cell_type": "code",
   "execution_count": 1,
   "metadata": {},
   "outputs": [],
   "source": [
    "import pandas as pd\n",
    "import numpy as np\n",
    "import matplotlib.pyplot as plt\n",
    "import seaborn as sns\n",
    "%matplotlib inline\n",
    "import matplotlib as mpl\n",
    "mpl.style.use('classic')\n",
    "mpl.rcParams['font.size'] = 8"
   ]
  },
  {
   "cell_type": "code",
   "execution_count": 2,
   "metadata": {},
   "outputs": [
    {
     "data": {
      "text/html": [
       "<div>\n",
       "<style scoped>\n",
       "    .dataframe tbody tr th:only-of-type {\n",
       "        vertical-align: middle;\n",
       "    }\n",
       "\n",
       "    .dataframe tbody tr th {\n",
       "        vertical-align: top;\n",
       "    }\n",
       "\n",
       "    .dataframe thead th {\n",
       "        text-align: right;\n",
       "    }\n",
       "</style>\n",
       "<table border=\"1\" class=\"dataframe\">\n",
       "  <thead>\n",
       "    <tr style=\"text-align: right;\">\n",
       "      <th></th>\n",
       "      <th>Training</th>\n",
       "      <th>y_tr</th>\n",
       "      <th>Testing</th>\n",
       "      <th>LR_train</th>\n",
       "      <th>ANN_train</th>\n",
       "      <th>SVR_rbf_train</th>\n",
       "      <th>SVR_lin_train</th>\n",
       "      <th>LR_test</th>\n",
       "      <th>SVR_lin</th>\n",
       "      <th>SVR_rbf</th>\n",
       "      <th>ANN</th>\n",
       "      <th>Res_LR_train</th>\n",
       "      <th>Res_ANN_train</th>\n",
       "      <th>Res_SVR_rbf_train</th>\n",
       "      <th>Res_SVR_lin_train</th>\n",
       "      <th>Res_LR</th>\n",
       "      <th>Res_SVR_rbf</th>\n",
       "      <th>Res_SVR_lin</th>\n",
       "      <th>Res_ANN</th>\n",
       "    </tr>\n",
       "  </thead>\n",
       "  <tbody>\n",
       "    <tr>\n",
       "      <th>0</th>\n",
       "      <td>35.5</td>\n",
       "      <td>32.0</td>\n",
       "      <td>30.0</td>\n",
       "      <td>35.711570</td>\n",
       "      <td>31.341618</td>\n",
       "      <td>31.652488</td>\n",
       "      <td>31.186936</td>\n",
       "      <td>29.989815</td>\n",
       "      <td>29.878945</td>\n",
       "      <td>29.972853</td>\n",
       "      <td>30.106461</td>\n",
       "      <td>-0.211570</td>\n",
       "      <td>0.658382</td>\n",
       "      <td>0.347512</td>\n",
       "      <td>0.813064</td>\n",
       "      <td>0.010185</td>\n",
       "      <td>0.121055</td>\n",
       "      <td>0.027147</td>\n",
       "      <td>-0.106461</td>\n",
       "    </tr>\n",
       "    <tr>\n",
       "      <th>1</th>\n",
       "      <td>38.5</td>\n",
       "      <td>31.5</td>\n",
       "      <td>39.0</td>\n",
       "      <td>37.592837</td>\n",
       "      <td>30.860765</td>\n",
       "      <td>31.079994</td>\n",
       "      <td>30.702613</td>\n",
       "      <td>38.079819</td>\n",
       "      <td>38.356198</td>\n",
       "      <td>38.099997</td>\n",
       "      <td>38.205662</td>\n",
       "      <td>0.907163</td>\n",
       "      <td>0.639235</td>\n",
       "      <td>0.420006</td>\n",
       "      <td>0.797387</td>\n",
       "      <td>0.920181</td>\n",
       "      <td>0.643802</td>\n",
       "      <td>0.900003</td>\n",
       "      <td>0.794338</td>\n",
       "    </tr>\n",
       "    <tr>\n",
       "      <th>2</th>\n",
       "      <td>28.5</td>\n",
       "      <td>31.5</td>\n",
       "      <td>29.5</td>\n",
       "      <td>28.750327</td>\n",
       "      <td>32.261845</td>\n",
       "      <td>32.264841</td>\n",
       "      <td>32.126588</td>\n",
       "      <td>29.613562</td>\n",
       "      <td>29.510604</td>\n",
       "      <td>29.523071</td>\n",
       "      <td>29.791529</td>\n",
       "      <td>-0.250327</td>\n",
       "      <td>-0.761845</td>\n",
       "      <td>-0.764841</td>\n",
       "      <td>-0.626588</td>\n",
       "      <td>-0.113562</td>\n",
       "      <td>-0.010604</td>\n",
       "      <td>-0.023071</td>\n",
       "      <td>-0.291529</td>\n",
       "    </tr>\n",
       "    <tr>\n",
       "      <th>3</th>\n",
       "      <td>38.5</td>\n",
       "      <td>27.0</td>\n",
       "      <td>31.0</td>\n",
       "      <td>38.079819</td>\n",
       "      <td>28.390450</td>\n",
       "      <td>27.588399</td>\n",
       "      <td>28.086629</td>\n",
       "      <td>31.491249</td>\n",
       "      <td>31.458094</td>\n",
       "      <td>31.806497</td>\n",
       "      <td>31.623528</td>\n",
       "      <td>0.420181</td>\n",
       "      <td>-1.390450</td>\n",
       "      <td>-0.588399</td>\n",
       "      <td>-1.086629</td>\n",
       "      <td>-0.491249</td>\n",
       "      <td>-0.458094</td>\n",
       "      <td>-0.806497</td>\n",
       "      <td>-0.623528</td>\n",
       "    </tr>\n",
       "    <tr>\n",
       "      <th>4</th>\n",
       "      <td>31.5</td>\n",
       "      <td>31.5</td>\n",
       "      <td>33.0</td>\n",
       "      <td>31.004267</td>\n",
       "      <td>31.267111</td>\n",
       "      <td>31.339905</td>\n",
       "      <td>31.060758</td>\n",
       "      <td>32.336029</td>\n",
       "      <td>32.339754</td>\n",
       "      <td>32.424473</td>\n",
       "      <td>32.460793</td>\n",
       "      <td>0.495733</td>\n",
       "      <td>0.232889</td>\n",
       "      <td>0.160095</td>\n",
       "      <td>0.439242</td>\n",
       "      <td>0.663971</td>\n",
       "      <td>0.660246</td>\n",
       "      <td>0.575527</td>\n",
       "      <td>0.539207</td>\n",
       "    </tr>\n",
       "  </tbody>\n",
       "</table>\n",
       "</div>"
      ],
      "text/plain": [
       "   Training  y_tr  Testing   LR_train  ANN_train  SVR_rbf_train  \\\n",
       "0      35.5  32.0     30.0  35.711570  31.341618      31.652488   \n",
       "1      38.5  31.5     39.0  37.592837  30.860765      31.079994   \n",
       "2      28.5  31.5     29.5  28.750327  32.261845      32.264841   \n",
       "3      38.5  27.0     31.0  38.079819  28.390450      27.588399   \n",
       "4      31.5  31.5     33.0  31.004267  31.267111      31.339905   \n",
       "\n",
       "   SVR_lin_train    LR_test    SVR_lin    SVR_rbf        ANN  Res_LR_train  \\\n",
       "0      31.186936  29.989815  29.878945  29.972853  30.106461     -0.211570   \n",
       "1      30.702613  38.079819  38.356198  38.099997  38.205662      0.907163   \n",
       "2      32.126588  29.613562  29.510604  29.523071  29.791529     -0.250327   \n",
       "3      28.086629  31.491249  31.458094  31.806497  31.623528      0.420181   \n",
       "4      31.060758  32.336029  32.339754  32.424473  32.460793      0.495733   \n",
       "\n",
       "   Res_ANN_train  Res_SVR_rbf_train  Res_SVR_lin_train    Res_LR  Res_SVR_rbf  \\\n",
       "0       0.658382           0.347512           0.813064  0.010185     0.121055   \n",
       "1       0.639235           0.420006           0.797387  0.920181     0.643802   \n",
       "2      -0.761845          -0.764841          -0.626588 -0.113562    -0.010604   \n",
       "3      -1.390450          -0.588399          -1.086629 -0.491249    -0.458094   \n",
       "4       0.232889           0.160095           0.439242  0.663971     0.660246   \n",
       "\n",
       "   Res_SVR_lin   Res_ANN  \n",
       "0     0.027147 -0.106461  \n",
       "1     0.900003  0.794338  \n",
       "2    -0.023071 -0.291529  \n",
       "3    -0.806497 -0.623528  \n",
       "4     0.575527  0.539207  "
      ]
     },
     "execution_count": 2,
     "metadata": {},
     "output_type": "execute_result"
    }
   ],
   "source": [
    "#df = pd.read_excel(\"Testing_data.xlsx\")\n",
    "df = pd.read_excel(\"Rahi_table.xlsx\")\n",
    "df.head()"
   ]
  },
  {
   "cell_type": "code",
   "execution_count": 3,
   "metadata": {},
   "outputs": [],
   "source": [
    "#df1 = pd.read_excel(\"ANN_data.xlsx\")\n",
    "#df1.head()"
   ]
  },
  {
   "cell_type": "code",
   "execution_count": 4,
   "metadata": {},
   "outputs": [],
   "source": [
    "df_original = df.copy()\n",
    "#df1_original = df1.copy()"
   ]
  },
  {
   "cell_type": "code",
   "execution_count": 5,
   "metadata": {},
   "outputs": [
    {
     "data": {
      "text/plain": [
       "'count1 = []    \\nfor i in range(5,7):\\n    x = df1[df1.columns[i]][(df1[df1.columns[i]] >= -2) & (df1[df1.columns[i]] <= 1)].count()\\n    count1.append(x)\\n    \\ncount1'"
      ]
     },
     "execution_count": 5,
     "metadata": {},
     "output_type": "execute_result"
    }
   ],
   "source": [
    "\"\"\"count1 = []    \n",
    "for i in range(5,7):\n",
    "    x = df1[df1.columns[i]][(df1[df1.columns[i]] >= -2) & (df1[df1.columns[i]] <= 1)].count()\n",
    "    count1.append(x)\n",
    "    \n",
    "count1\"\"\""
   ]
  },
  {
   "cell_type": "code",
   "execution_count": 6,
   "metadata": {},
   "outputs": [
    {
     "data": {
      "text/plain": [
       "'count = []    \\nfor i in range(7,15):\\n    x = df[df.columns[i]][(df[df.columns[i]] >= -2) & (df[df.columns[i]] <= 1)].count()\\n    count.append(x)\\n    \\ncount'"
      ]
     },
     "execution_count": 6,
     "metadata": {},
     "output_type": "execute_result"
    }
   ],
   "source": [
    "\"\"\"count = []    \n",
    "for i in range(7,15):\n",
    "    x = df[df.columns[i]][(df[df.columns[i]] >= -2) & (df[df.columns[i]] <= 1)].count()\n",
    "    count.append(x)\n",
    "    \n",
    "count\"\"\""
   ]
  },
  {
   "cell_type": "code",
   "execution_count": 7,
   "metadata": {},
   "outputs": [
    {
     "name": "stdout",
     "output_type": "stream",
     "text": [
      "<class 'pandas.core.frame.DataFrame'>\n",
      "RangeIndex: 135 entries, 0 to 134\n",
      "Data columns (total 19 columns):\n",
      " #   Column             Non-Null Count  Dtype  \n",
      "---  ------             --------------  -----  \n",
      " 0   Training           135 non-null    float64\n",
      " 1   y_tr               108 non-null    float64\n",
      " 2   Testing            59 non-null     float64\n",
      " 3   LR_train           135 non-null    float64\n",
      " 4   ANN_train          108 non-null    float64\n",
      " 5   SVR_rbf_train      108 non-null    float64\n",
      " 6   SVR_lin_train      108 non-null    float64\n",
      " 7   LR_test            59 non-null     float64\n",
      " 8   SVR_lin            59 non-null     float64\n",
      " 9   SVR_rbf            59 non-null     float64\n",
      " 10  ANN                59 non-null     float64\n",
      " 11  Res_LR_train       135 non-null    float64\n",
      " 12  Res_ANN_train      108 non-null    float64\n",
      " 13  Res_SVR_rbf_train  108 non-null    float64\n",
      " 14  Res_SVR_lin_train  108 non-null    float64\n",
      " 15  Res_LR             59 non-null     float64\n",
      " 16  Res_SVR_rbf        59 non-null     float64\n",
      " 17  Res_SVR_lin        59 non-null     float64\n",
      " 18  Res_ANN            59 non-null     float64\n",
      "dtypes: float64(19)\n",
      "memory usage: 20.2 KB\n"
     ]
    }
   ],
   "source": [
    "df.info()"
   ]
  },
  {
   "cell_type": "code",
   "execution_count": 8,
   "metadata": {},
   "outputs": [],
   "source": [
    "df1 = df[[\"Res_LR_train\",\"Res_ANN_train\",\"Res_SVR_rbf_train\",\"Res_SVR_lin_train\",\"Res_LR\",\"Res_SVR_rbf\",\"Res_SVR_lin\",\"Res_ANN\"]]"
   ]
  },
  {
   "cell_type": "code",
   "execution_count": 9,
   "metadata": {
    "scrolled": true
   },
   "outputs": [
    {
     "name": "stdout",
     "output_type": "stream",
     "text": [
      "2.5% of Res_LR_train is: -1.4534\n",
      "97.5% of Res_LR_train is: 1.4342\n",
      "\n",
      "2.5% of Res_ANN_train is: -1.7350\n",
      "97.5% of Res_ANN_train is: 1.2430\n",
      "\n",
      "2.5% of Res_SVR_rbf_train is: -1.5532\n",
      "97.5% of Res_SVR_rbf_train is: 1.3195\n",
      "\n",
      "2.5% of Res_SVR_lin_train is: -1.7390\n",
      "97.5% of Res_SVR_lin_train is: 1.3250\n",
      "\n",
      "2.5% of Res_LR is: -0.9676\n",
      "97.5% of Res_LR is: 2.8243\n",
      "\n",
      "2.5% of Res_SVR_rbf is: -0.9271\n",
      "97.5% of Res_SVR_rbf is: 2.7356\n",
      "\n",
      "2.5% of Res_SVR_lin is: -1.1318\n",
      "97.5% of Res_SVR_lin is: 2.6267\n",
      "\n",
      "2.5% of Res_ANN is: -1.0689\n",
      "97.5% of Res_ANN is: 2.7330\n",
      "\n"
     ]
    }
   ],
   "source": [
    "for i in df1.columns:\n",
    "    print(\"2.5% of {} is: {:0.4f}\".format(i,df1[i].quantile(.025)))\n",
    "    print(\"97.5% of {} is: {:0.4f}\\n\".format(i,df1[i].quantile(.975)))"
   ]
  },
  {
   "cell_type": "code",
   "execution_count": 10,
   "metadata": {},
   "outputs": [
    {
     "data": {
      "text/plain": [
       "'fig, ax = plt.subplots()\\nfig.set_size_inches(3.5,2.5)\\nplt.hist(df[\"Res_LR\"],weights = np.ones(len(df[\"Res_LR\"])) / len(df[\"Res_LR\"]),color = \"grey\", bins = 20)\\nfig.patch.set_facecolor(\"white\")\\nax.set(ylabel = \"Frequency (%)\", xlabel = \"Residual Phi (degree)\")\\n#fig.savefig(\"residual_LR_test.jpg\", dpi = 600, transparent=True, bbox_inches=\"tight\")'"
      ]
     },
     "execution_count": 10,
     "metadata": {},
     "output_type": "execute_result"
    }
   ],
   "source": [
    "\"\"\"fig, ax = plt.subplots()\n",
    "fig.set_size_inches(3.5,2.5)\n",
    "plt.hist(df[\"Res_LR\"],weights = np.ones(len(df[\"Res_LR\"])) / len(df[\"Res_LR\"]),color = \"grey\", bins = 20)\n",
    "fig.patch.set_facecolor(\"white\")\n",
    "ax.set(ylabel = \"Frequency (%)\", xlabel = \"Residual Phi (degree)\")\n",
    "#fig.savefig(\"residual_LR_test.jpg\", dpi = 600, transparent=True, bbox_inches=\"tight\")\"\"\""
   ]
  },
  {
   "cell_type": "code",
   "execution_count": 11,
   "metadata": {},
   "outputs": [
    {
     "data": {
      "text/plain": [
       "[Text(0, 0.5, 'Frequency (%)'), Text(0.5, 0, 'Residual $\\\\Phi$ (degree)')]"
      ]
     },
     "execution_count": 11,
     "metadata": {},
     "output_type": "execute_result"
    },
    {
     "data": {
      "image/png": "[encoded data removed]",
      "text/plain": [
       "<Figure size 280x200 with 1 Axes>"
      ]
     },
     "metadata": {},
     "output_type": "display_data"
    }
   ],
   "source": [
    "fig, ax = plt.subplots()\n",
    "fig.set_size_inches(3.5,2.5)\n",
    "plt.hist(df[\"Res_LR_train\"],weights = np.ones(len(df[\"Res_LR_train\"])) / len(df[\"Res_LR_train\"]),\\\n",
    "         color = \"k\",alpha=0.75, bins = 20, label = \"Training\")\n",
    "plt.hist(df[\"Res_LR\"].dropna(),weights = np.ones(len(df[\"Res_LR\"].dropna())) / len(df[\"Res_LR\"].dropna()),\\\n",
    "         color = \"white\",hatch = \"//\",alpha = 0.75 ,bins = 20, label = \"Testing\")\n",
    "fig.patch.set_facecolor(\"white\")\n",
    "ax.legend(loc = 2, prop = {\"size\" : 8})\n",
    "ax.set(ylabel = \"Frequency (%)\", xlabel = \"Residual $\\Phi$ (degree)\")\n",
    "#fig.savefig(\"residual_LR.jpg\", dpi = 600, transparent=True, bbox_inches=\"tight\")"
   ]
  },
  {
   "cell_type": "code",
   "execution_count": 12,
   "metadata": {},
   "outputs": [
    {
     "name": "stderr",
     "output_type": "stream",
     "text": [
      "C:\\Users\\User\\anaconda3\\lib\\site-packages\\numpy\\lib\\histograms.py:839: RuntimeWarning: invalid value encountered in greater_equal\n",
      "  keep = (tmp_a >= first_edge)\n",
      "C:\\Users\\User\\anaconda3\\lib\\site-packages\\numpy\\lib\\histograms.py:840: RuntimeWarning: invalid value encountered in less_equal\n",
      "  keep &= (tmp_a <= last_edge)\n"
     ]
    },
    {
     "data": {
      "text/plain": [
       "[Text(0, 0.5, 'Frequency (%)'), Text(0.5, 0, 'Residual $\\\\Phi$ (degree)')]"
      ]
     },
     "execution_count": 12,
     "metadata": {},
     "output_type": "execute_result"
    },
    {
     "data": {
      "image/png": "[encoded data removed]",
      "text/plain": [
       "<Figure size 280x200 with 1 Axes>"
      ]
     },
     "metadata": {},
     "output_type": "display_data"
    }
   ],
   "source": [
    "fig, ax = plt.subplots()\n",
    "fig.set_size_inches(3.5,2.5)\n",
    "plt.hist(df[\"Res_SVR_rbf_train\"],weights = np.ones(len(df[\"Res_SVR_rbf_train\"])) / len(df[\"Res_SVR_rbf_train\"]),\\\n",
    "         color = \"k\",alpha=0.75, bins = 20, label = \"Training\")\n",
    "plt.hist(df[\"Res_SVR_rbf\"].dropna(),weights = np.ones(len(df[\"Res_SVR_rbf\"].dropna())) / len(df[\"Res_SVR_rbf\"].dropna()),\\\n",
    "         color = \"white\",hatch = \"//\",alpha = 0.75 ,bins = 20, label = \"Testing\")\n",
    "fig.patch.set_facecolor(\"white\")\n",
    "ax.legend(loc = 2, prop = {\"size\" : 8})\n",
    "ax.set(ylabel = \"Frequency (%)\", xlabel = \"Residual $\\Phi$ (degree)\")\n",
    "#fig.savefig(\"residual_SVR_rbf.jpg\", dpi = 600, transparent=True, bbox_inches=\"tight\")"
   ]
  },
  {
   "cell_type": "code",
   "execution_count": 13,
   "metadata": {},
   "outputs": [
    {
     "data": {
      "text/plain": [
       "[Text(0, 0.5, 'Frequency (%)'), Text(0.5, 0, 'Residual $\\\\Phi$ (degree)')]"
      ]
     },
     "execution_count": 13,
     "metadata": {},
     "output_type": "execute_result"
    },
    {
     "data": {
      "image/png": "[encoded data removed]",
      "text/plain": [
       "<Figure size 280x200 with 1 Axes>"
      ]
     },
     "metadata": {},
     "output_type": "display_data"
    }
   ],
   "source": [
    "fig, ax = plt.subplots()\n",
    "fig.set_size_inches(3.5,2.5)\n",
    "plt.hist(df[\"Res_SVR_lin_train\"],weights = np.ones(len(df[\"Res_SVR_lin_train\"])) / len(df[\"Res_SVR_lin_train\"]),\\\n",
    "         color = \"k\",alpha=0.75, bins = 20, label = \"Training\")\n",
    "plt.hist(df[\"Res_SVR_lin\"].dropna(),weights = np.ones(len(df[\"Res_SVR_lin\"].dropna())) / len(df[\"Res_SVR_lin\"].dropna()),\\\n",
    "         color = \"white\",hatch = \"//\",alpha = 0.75 ,bins = 20, label = \"Testing\")\n",
    "fig.patch.set_facecolor(\"white\")\n",
    "ax.legend(loc = 2, prop = {\"size\" : 8})\n",
    "ax.set(ylabel = \"Frequency (%)\", xlabel = \"Residual $\\Phi$ (degree)\")\n",
    "#fig.savefig(\"residual_SVR_lin.jpg\", dpi = 600, transparent=True, bbox_inches=\"tight\")"
   ]
  },
  {
   "cell_type": "code",
   "execution_count": 14,
   "metadata": {},
   "outputs": [
    {
     "data": {
      "text/plain": [
       "[Text(0, 0.5, 'Frequency (%)'), Text(0.5, 0, 'Residual $\\\\Phi$ (degree)')]"
      ]
     },
     "execution_count": 14,
     "metadata": {},
     "output_type": "execute_result"
    },
    {
     "data": {
      "image/png": "[encoded data removed]",
      "text/plain": [
       "<Figure size 280x200 with 1 Axes>"
      ]
     },
     "metadata": {},
     "output_type": "display_data"
    }
   ],
   "source": [
    "fig, ax = plt.subplots()\n",
    "fig.set_size_inches(3.5,2.5)\n",
    "plt.hist(df[\"Res_ANN_train\"],weights = np.ones(len(df[\"Res_ANN_train\"])) / len(df[\"Res_ANN_train\"]),\\\n",
    "         color = \"k\",alpha=0.75, bins = 20, label = \"Training\")\n",
    "plt.hist(df[\"Res_ANN\"].dropna(),weights = np.ones(len(df[\"Res_ANN\"].dropna())) / len(df[\"Res_ANN\"].dropna()),\\\n",
    "         color = \"white\",hatch = \"//\",alpha = 0.75 ,bins = 20, label = \"Testing\")\n",
    "fig.patch.set_facecolor(\"white\")\n",
    "ax.legend(loc = 2, prop = {\"size\" : 8})\n",
    "ax.set(ylabel = \"Frequency (%)\", xlabel = \"Residual $\\Phi$ (degree)\")\n",
    "#fig.savefig(\"residual_ANN.jpg\", dpi = 600, transparent=True, bbox_inches=\"tight\")"
   ]
  },
  {
   "cell_type": "code",
   "execution_count": 15,
   "metadata": {},
   "outputs": [
    {
     "data": {
      "text/plain": [
       "'fig, ax = plt.subplots()\\nfig.set_size_inches(3.6,2.5)\\nplt.hist(df[\"Res_ANN_train\"],weights = np.ones(len(df[\"Res_ANN_train\"])) / len(df[\"Res_ANN_train\"]),color = \"grey\", bins = 20)\\nfig.patch.set_facecolor(\"white\")\\nax.set(ylabel = \"Frequency (%)\", xlabel = \"Residual Phi (degree)\")\\n#fig.savefig(\"residual_ANN_train.jpg\", dpi = 600, transparent=True, bbox_inches=\"tight\")'"
      ]
     },
     "execution_count": 15,
     "metadata": {},
     "output_type": "execute_result"
    }
   ],
   "source": [
    "\"\"\"fig, ax = plt.subplots()\n",
    "fig.set_size_inches(3.6,2.5)\n",
    "plt.hist(df[\"Res_ANN_train\"],weights = np.ones(len(df[\"Res_ANN_train\"])) / len(df[\"Res_ANN_train\"]),color = \"grey\", bins = 20)\n",
    "fig.patch.set_facecolor(\"white\")\n",
    "ax.set(ylabel = \"Frequency (%)\", xlabel = \"Residual Phi (degree)\")\n",
    "#fig.savefig(\"residual_ANN_train.jpg\", dpi = 600, transparent=True, bbox_inches=\"tight\")\"\"\""
   ]
  },
  {
   "cell_type": "code",
   "execution_count": 16,
   "metadata": {},
   "outputs": [
    {
     "data": {
      "text/plain": [
       "'fig, ax = plt.subplots()\\nfig.set_size_inches(3.6,2.5)\\nplt.hist(df[\"Res_ANN\"],weights = np.ones(len(df[\"Res_ANN\"])) / len(df[\"Res_ANN\"]),color = \"grey\", bins = 20)\\nfig.patch.set_facecolor(\"white\")\\nax.set(ylabel = \"Frequency (%)\", xlabel = \"Residual Phi (degree)\")\\n#fig.savefig(\"residual_ANN_test.jpg\", dpi = 600, transparent=True, bbox_inches=\"tight\")'"
      ]
     },
     "execution_count": 16,
     "metadata": {},
     "output_type": "execute_result"
    }
   ],
   "source": [
    "\"\"\"fig, ax = plt.subplots()\n",
    "fig.set_size_inches(3.6,2.5)\n",
    "plt.hist(df[\"Res_ANN\"],weights = np.ones(len(df[\"Res_ANN\"])) / len(df[\"Res_ANN\"]),color = \"grey\", bins = 20)\n",
    "fig.patch.set_facecolor(\"white\")\n",
    "ax.set(ylabel = \"Frequency (%)\", xlabel = \"Residual Phi (degree)\")\n",
    "#fig.savefig(\"residual_ANN_test.jpg\", dpi = 600, transparent=True, bbox_inches=\"tight\")\"\"\""
   ]
  },
  {
   "cell_type": "code",
   "execution_count": 17,
   "metadata": {},
   "outputs": [
    {
     "data": {
      "text/plain": [
       "'fig, ax = plt.subplots()\\nfig.set_size_inches(3.6,2.5)\\nplt.hist(df[\"Res_SVR_rbf_train\"],weights = np.ones(len(df[\"Res_SVR_rbf_train\"])) / len(df[\"Res_SVR_rbf_train\"]),color = \"grey\", bins = 20)\\nfig.patch.set_facecolor(\"white\")\\nax.set(ylabel = \"Frequency (%)\", xlabel = \"Residual Phi (degree)\")\\n#fig.savefig(\"residual_SVR_rbf_train.jpg\", dpi = 600, transparent=True, bbox_inches=\"tight\")'"
      ]
     },
     "execution_count": 17,
     "metadata": {},
     "output_type": "execute_result"
    }
   ],
   "source": [
    "\"\"\"fig, ax = plt.subplots()\n",
    "fig.set_size_inches(3.6,2.5)\n",
    "plt.hist(df[\"Res_SVR_rbf_train\"],weights = np.ones(len(df[\"Res_SVR_rbf_train\"])) / len(df[\"Res_SVR_rbf_train\"]),color = \"grey\", bins = 20)\n",
    "fig.patch.set_facecolor(\"white\")\n",
    "ax.set(ylabel = \"Frequency (%)\", xlabel = \"Residual Phi (degree)\")\n",
    "#fig.savefig(\"residual_SVR_rbf_train.jpg\", dpi = 600, transparent=True, bbox_inches=\"tight\")\"\"\""
   ]
  },
  {
   "cell_type": "code",
   "execution_count": 18,
   "metadata": {},
   "outputs": [
    {
     "data": {
      "text/plain": [
       "'fig, ax = plt.subplots()\\nfig.set_size_inches(3.6,2.5)\\nplt.hist(df[\"Res_SVR_lin_train\"],weights = np.ones(len(df[\"Res_SVR_lin_train\"])) / len(df[\"Res_SVR_lin_train\"]),color = \"grey\", bins = 20)\\nfig.patch.set_facecolor(\"white\")\\nax.set(ylabel = \"Frequency (%)\", xlabel = \"Residual Phi (degree)\")\\n#fig.savefig(\"residual_SVR_lin_train.jpg\", dpi = 600, transparent=True, bbox_inches=\"tight\")'"
      ]
     },
     "execution_count": 18,
     "metadata": {},
     "output_type": "execute_result"
    }
   ],
   "source": [
    "\"\"\"fig, ax = plt.subplots()\n",
    "fig.set_size_inches(3.6,2.5)\n",
    "plt.hist(df[\"Res_SVR_lin_train\"],weights = np.ones(len(df[\"Res_SVR_lin_train\"])) / len(df[\"Res_SVR_lin_train\"]),color = \"grey\", bins = 20)\n",
    "fig.patch.set_facecolor(\"white\")\n",
    "ax.set(ylabel = \"Frequency (%)\", xlabel = \"Residual Phi (degree)\")\n",
    "#fig.savefig(\"residual_SVR_lin_train.jpg\", dpi = 600, transparent=True, bbox_inches=\"tight\")\"\"\""
   ]
  },
  {
   "cell_type": "code",
   "execution_count": 19,
   "metadata": {},
   "outputs": [
    {
     "data": {
      "text/plain": [
       "'fig, ax = plt.subplots()\\nfig.set_size_inches(3.6,2.5)\\nplt.hist(df[\"Res_SVR_rbf\"],weights = np.ones(len(df[\"Res_SVR_rbf\"])) / len(df[\"Res_SVR_rbf\"]),color = \"grey\", bins = 20)\\nfig.patch.set_facecolor(\"white\")\\nax.set(ylabel = \"Frequency (%)\", xlabel = \"Residual Phi (degree)\")\\n#fig.savefig(\"residual_SVR_rbf.jpg\", dpi = 600, transparent=True, bbox_inches=\"tight\")'"
      ]
     },
     "execution_count": 19,
     "metadata": {},
     "output_type": "execute_result"
    }
   ],
   "source": [
    "\"\"\"fig, ax = plt.subplots()\n",
    "fig.set_size_inches(3.6,2.5)\n",
    "plt.hist(df[\"Res_SVR_rbf\"],weights = np.ones(len(df[\"Res_SVR_rbf\"])) / len(df[\"Res_SVR_rbf\"]),color = \"grey\", bins = 20)\n",
    "fig.patch.set_facecolor(\"white\")\n",
    "ax.set(ylabel = \"Frequency (%)\", xlabel = \"Residual Phi (degree)\")\n",
    "#fig.savefig(\"residual_SVR_rbf.jpg\", dpi = 600, transparent=True, bbox_inches=\"tight\")\"\"\""
   ]
  },
  {
   "cell_type": "code",
   "execution_count": 20,
   "metadata": {},
   "outputs": [
    {
     "data": {
      "text/plain": [
       "'fig, ax = plt.subplots()\\nfig.set_size_inches(3.6,2.5)\\nplt.hist(df[\"Res_SVR_lin\"],weights = np.ones(len(df[\"Res_SVR_lin\"])) / len(df[\"Res_SVR_lin\"]),color = \"grey\", bins = 20)\\nfig.patch.set_facecolor(\"white\")\\nax.set(ylabel = \"Frequency (%)\", xlabel = \"Residual Phi (degree)\")\\n#fig.savefig(\"residual_SVR_lin.jpg\", dpi = 600, transparent=True, bbox_inches=\"tight\")'"
      ]
     },
     "execution_count": 20,
     "metadata": {},
     "output_type": "execute_result"
    }
   ],
   "source": [
    "\"\"\"fig, ax = plt.subplots()\n",
    "fig.set_size_inches(3.6,2.5)\n",
    "plt.hist(df[\"Res_SVR_lin\"],weights = np.ones(len(df[\"Res_SVR_lin\"])) / len(df[\"Res_SVR_lin\"]),color = \"grey\", bins = 20)\n",
    "fig.patch.set_facecolor(\"white\")\n",
    "ax.set(ylabel = \"Frequency (%)\", xlabel = \"Residual Phi (degree)\")\n",
    "#fig.savefig(\"residual_SVR_lin.jpg\", dpi = 600, transparent=True, bbox_inches=\"tight\")\"\"\""
   ]
  },
  {
   "cell_type": "code",
   "execution_count": 21,
   "metadata": {},
   "outputs": [
    {
     "data": {
      "image/png": "[encoded data removed]",
      "text/plain": [
       "<Figure size 288x200 with 1 Axes>"
      ]
     },
     "metadata": {},
     "output_type": "display_data"
    }
   ],
   "source": [
    "fig, ax = plt.subplots(figsize = (3.6,2.5))\n",
    "#fig.set_size_inches(3.5,3)\n",
    "\n",
    "ax.scatter(df[\"Testing\"], df[\"Res_LR\"], c = \"k\", label = \"Testing Data\")\n",
    "ax.scatter(df[\"Training\"], df[\"Res_LR_train\"], c = \"w\", label = \"Training Data\")\n",
    "ax.set(ylabel = \"Residuals (degree)\", xlabel = \"Actual $\\Phi$ (degree)\")\n",
    "ax.legend(loc = 2, prop = {\"size\" : 8})\n",
    "plt.axhline(y=0, color='k', linestyle='-', linewidth = 1)\n",
    "fig.patch.set_facecolor(\"White\")\n",
    "#ax.tick_params(length = 4, width = 1)\n",
    "#fig.savefig(\"scatter_LR.jpg\", dpi = 600, transparent=True, bbox_inches=\"tight\")"
   ]
  },
  {
   "cell_type": "code",
   "execution_count": 22,
   "metadata": {},
   "outputs": [
    {
     "data": {
      "image/png": "[encoded data removed]",
      "text/plain": [
       "<Figure size 288x200 with 1 Axes>"
      ]
     },
     "metadata": {},
     "output_type": "display_data"
    }
   ],
   "source": [
    "fig, ax = plt.subplots(figsize = (3.6,2.5))\n",
    "#fig.set_size_inches(3.5,3)\n",
    "\n",
    "ax.scatter(df[\"Testing\"], df[\"Res_ANN\"], c = \"k\", label = \"Testing Data\")\n",
    "ax.scatter(df[\"Training\"], df[\"Res_ANN_train\"], c = \"w\", label = \"Training Data\")\n",
    "ax.set(ylabel = \"Residuals (degree)\", xlabel = \"Actual $\\Phi$ (degree)\")\n",
    "ax.legend(loc = 2, prop = {\"size\" : 8})\n",
    "plt.axhline(y=0, color='k', linestyle='-', linewidth = 1)\n",
    "fig.patch.set_facecolor(\"White\")\n",
    "#ax.tick_params(length = 4, width = 1)\n",
    "#fig.savefig(\"scatter_ANN.jpg\", dpi = 600, transparent=True, bbox_inches=\"tight\")"
   ]
  },
  {
   "cell_type": "code",
   "execution_count": 23,
   "metadata": {},
   "outputs": [
    {
     "data": {
      "image/png": "[encoded data removed]",
      "text/plain": [
       "<Figure size 288x200 with 1 Axes>"
      ]
     },
     "metadata": {},
     "output_type": "display_data"
    }
   ],
   "source": [
    "fig, ax = plt.subplots(figsize = (3.6,2.5))\n",
    "#fig.set_size_inches(3.5,3)\n",
    "\n",
    "ax.scatter(df[\"Testing\"], df[\"Res_SVR_rbf\"], c = \"k\", label = \"Testing Data\")\n",
    "ax.scatter(df[\"Training\"], df[\"Res_SVR_rbf_train\"], c = \"w\", label = \"Training Data\")\n",
    "ax.set(ylabel = \"Residuals (degree)\", xlabel = \"Actual $\\Phi$ (degree)\")\n",
    "ax.legend(loc = 2, prop = {\"size\" : 8})\n",
    "plt.axhline(y=0, color='k', linestyle='-', linewidth = 1)\n",
    "fig.patch.set_facecolor(\"White\")\n",
    "#ax.tick_params(length = 4, width = 1)\n",
    "#fig.savefig(\"scatter_SVR_rbf.jpg\", dpi = 600, transparent=True, bbox_inches=\"tight\")"
   ]
  },
  {
   "cell_type": "code",
   "execution_count": 24,
   "metadata": {},
   "outputs": [
    {
     "data": {
      "image/png": "[encoded data removed]",
      "text/plain": [
       "<Figure size 288x200 with 1 Axes>"
      ]
     },
     "metadata": {},
     "output_type": "display_data"
    }
   ],
   "source": [
    "fig, ax = plt.subplots(figsize = (3.6,2.5))\n",
    "#fig.set_size_inches(3.5,3)\n",
    "\n",
    "ax.scatter(df[\"Testing\"], df[\"Res_SVR_lin\"], c = \"k\", label = \"Testing Data\")\n",
    "ax.scatter(df[\"Training\"], df[\"Res_SVR_lin_train\"], c = \"w\", label = \"Training Data\")\n",
    "ax.set(ylabel = \"Residuals (degree)\", xlabel = \"Actual $\\Phi$ (degree)\")\n",
    "ax.legend(loc = 2, prop = {\"size\" : 8})\n",
    "plt.axhline(y=0, color='k', linestyle='-', linewidth = 1)\n",
    "fig.patch.set_facecolor(\"White\")\n",
    "#ax.tick_params(length = 4, width = 1)\n",
    "#fig.savefig(\"scatter_SVR_lin.jpg\", dpi = 600, transparent=True, bbox_inches=\"tight\")"
   ]
  },
  {
   "cell_type": "code",
   "execution_count": 25,
   "metadata": {},
   "outputs": [
    {
     "data": {
      "text/plain": [
       "Index(['Training', 'y_tr', 'Testing', 'LR_train', 'ANN_train', 'SVR_rbf_train',\n",
       "       'SVR_lin_train', 'LR_test', 'SVR_lin', 'SVR_rbf', 'ANN', 'Res_LR_train',\n",
       "       'Res_ANN_train', 'Res_SVR_rbf_train', 'Res_SVR_lin_train', 'Res_LR',\n",
       "       'Res_SVR_rbf', 'Res_SVR_lin', 'Res_ANN'],\n",
       "      dtype='object')"
      ]
     },
     "execution_count": 25,
     "metadata": {},
     "output_type": "execute_result"
    }
   ],
   "source": [
    "df.columns"
   ]
  },
  {
   "cell_type": "code",
   "execution_count": 26,
   "metadata": {},
   "outputs": [
    {
     "data": {
      "text/plain": [
       "<matplotlib.legend.Legend at 0x22178d2b508>"
      ]
     },
     "execution_count": 26,
     "metadata": {},
     "output_type": "execute_result"
    },
    {
     "data": {
      "image/png": "[encoded data removed]",
      "text/plain": [
       "<Figure size 288x200 with 1 Axes>"
      ]
     },
     "metadata": {},
     "output_type": "display_data"
    }
   ],
   "source": [
    "fig, ax = plt.subplots()\n",
    "fig.set_size_inches(3.6, 2.5)\n",
    "\n",
    "ax.scatter(df[\"Testing\"], df[\"LR_test\"], c = \"w\", label = \"MLR\")\n",
    "ax.scatter(df[\"Testing\"], df[\"SVR_rbf\"], c = \"w\", label = \"SVR_Rbf\", marker = \"s\")\n",
    "ax.scatter(df[\"Testing\"], df[\"SVR_lin\"], c = \"k\", marker = \"P\", label = \"SBR_Linear\")\n",
    "ax.scatter(df[\"Testing\"], df[\"ANN\"], c = \"w\", marker = \"v\", label = \"ANN\")\n",
    "plt.plot(df[\"Testing\"], df[\"Testing\"], c = \"k\", linewidth = 2)\n",
    "ax.set(ylabel = \"Predicted $\\Phi$ (degree)\", xlabel = \"Actual $\\Phi$ (degree)\")\n",
    "fig.patch.set_facecolor(\"White\")\n",
    "ax.legend(loc = 2, prop = {\"size\" : 8})\n",
    "#ax.tick_params(length = 4, width = 2)\n",
    "#fig.savefig(\"testing_new.jpg\", dpi = 600, transparent=True, bbox_inches=\"tight\")"
   ]
  },
  {
   "cell_type": "code",
   "execution_count": 27,
   "metadata": {},
   "outputs": [
    {
     "data": {
      "text/plain": [
       "<matplotlib.legend.Legend at 0x221780c3d48>"
      ]
     },
     "execution_count": 27,
     "metadata": {},
     "output_type": "execute_result"
    },
    {
     "data": {
      "image/png": "[encoded data removed]",
      "text/plain": [
       "<Figure size 288x200 with 1 Axes>"
      ]
     },
     "metadata": {},
     "output_type": "display_data"
    }
   ],
   "source": [
    "fig, ax = plt.subplots()\n",
    "fig.set_size_inches(3.6, 2.5)\n",
    "\n",
    "ax.scatter(df[\"Training\"], df[\"LR_train\"], c = \"w\", label = \"MLR\")\n",
    "ax.scatter(df[\"y_tr\"], df[\"SVR_rbf_train\"], c = \"w\", label = \"SVR_Rbf\", marker = \"s\")\n",
    "ax.scatter(df[\"y_tr\"], df[\"SVR_lin_train\"], c = \"k\", marker = \"P\", label = \"SBR_Linear\")\n",
    "ax.scatter(df[\"y_tr\"], df[\"ANN_train\"], c = \"w\", marker = \"v\", label = \"ANN\")\n",
    "plt.plot(df[\"Testing\"], df[\"Testing\"], c = \"k\", linewidth = 2)\n",
    "ax.set(ylabel = \"Predicted $\\Phi$ (degree)\", xlabel = \"Actual $\\Phi$ (degree)\")\n",
    "fig.patch.set_facecolor(\"White\")\n",
    "ax.legend(loc = 2, prop = {\"size\" : 8})\n",
    "#ax.tick_params(length = 4, width = 2)\n",
    "#fig.savefig(\"training_new.jpg\", dpi = 600, transparent=True, bbox_inches=\"tight\")"
   ]
  },
  {
   "cell_type": "code",
   "execution_count": 28,
   "metadata": {},
   "outputs": [
    {
     "data": {
      "text/plain": [
       "'fig, ax = plt.subplots()\\nfig.set_size_inches(3.6, 2.5)\\n\\nax.scatter(df[\"Testing\"], df[\"LR_test\"], c = \"k\")\\nplt.plot(df[\"Testing\"], df[\"Testing\"], c = \"k\", linewidth = 2)\\nax.set(ylabel = \"Predicted Phi (degree)\", xlabel = \"Actual Phi (degree)\")\\nfig.patch.set_facecolor(\"White\")\\n#ax.tick_params(length = 4, width = 2)\\n#fig.savefig(\"LR_test.jpg\", dpi = 600, transparent=True, bbox_inches=\"tight\")'"
      ]
     },
     "execution_count": 28,
     "metadata": {},
     "output_type": "execute_result"
    }
   ],
   "source": [
    "\"\"\"fig, ax = plt.subplots()\n",
    "fig.set_size_inches(3.6, 2.5)\n",
    "\n",
    "ax.scatter(df[\"Testing\"], df[\"LR_test\"], c = \"k\")\n",
    "plt.plot(df[\"Testing\"], df[\"Testing\"], c = \"k\", linewidth = 2)\n",
    "ax.set(ylabel = \"Predicted Phi (degree)\", xlabel = \"Actual Phi (degree)\")\n",
    "fig.patch.set_facecolor(\"White\")\n",
    "#ax.tick_params(length = 4, width = 2)\n",
    "#fig.savefig(\"LR_test.jpg\", dpi = 600, transparent=True, bbox_inches=\"tight\")\"\"\""
   ]
  },
  {
   "cell_type": "code",
   "execution_count": 29,
   "metadata": {},
   "outputs": [
    {
     "data": {
      "text/plain": [
       "'fig, ax = plt.subplots()\\nfig.set_size_inches(3.6, 2.5)\\n\\nax.scatter(df[\"Training\"], df[\"LR_train\"], c = \"k\")\\nplt.plot(df[\"Training\"], df[\"Training\"], c = \"k\", linewidth = 2)\\nax.set(ylabel = \"Predicted Phi (degree)\", xlabel = \"Actual Phi (degree)\")\\nfig.patch.set_facecolor(\"White\")\\n#ax.tick_params(length = 4, width = 2)\\n#fig.savefig(\"LR_train.jpg\", dpi = 600, transparent=True, bbox_inches=\"tight\")'"
      ]
     },
     "execution_count": 29,
     "metadata": {},
     "output_type": "execute_result"
    }
   ],
   "source": [
    "\"\"\"fig, ax = plt.subplots()\n",
    "fig.set_size_inches(3.6, 2.5)\n",
    "\n",
    "ax.scatter(df[\"Training\"], df[\"LR_train\"], c = \"k\")\n",
    "plt.plot(df[\"Training\"], df[\"Training\"], c = \"k\", linewidth = 2)\n",
    "ax.set(ylabel = \"Predicted Phi (degree)\", xlabel = \"Actual Phi (degree)\")\n",
    "fig.patch.set_facecolor(\"White\")\n",
    "#ax.tick_params(length = 4, width = 2)\n",
    "#fig.savefig(\"LR_train.jpg\", dpi = 600, transparent=True, bbox_inches=\"tight\")\"\"\""
   ]
  },
  {
   "cell_type": "code",
   "execution_count": 30,
   "metadata": {},
   "outputs": [
    {
     "data": {
      "text/plain": [
       "'fig, ax = plt.subplots()\\nfig.set_size_inches(3.6, 2.5)\\n\\nax.scatter(df[\"Testing\"], df[\"ANN\"], c = \"k\")\\nplt.plot(df[\"Testing\"], df[\"Testing\"], c = \"k\", linewidth = 2)\\nax.set(ylabel = \"Predicted Phi (degree)\", xlabel = \"Actual Phi (degree)\")\\nfig.patch.set_facecolor(\"White\")\\n#ax.tick_params(length = 4, width = 2)\\n#fig.savefig(\"ANN_test.jpg\", dpi = 600, transparent=True, bbox_inches=\"tight\")'"
      ]
     },
     "execution_count": 30,
     "metadata": {},
     "output_type": "execute_result"
    }
   ],
   "source": [
    "\"\"\"fig, ax = plt.subplots()\n",
    "fig.set_size_inches(3.6, 2.5)\n",
    "\n",
    "ax.scatter(df[\"Testing\"], df[\"ANN\"], c = \"k\")\n",
    "plt.plot(df[\"Testing\"], df[\"Testing\"], c = \"k\", linewidth = 2)\n",
    "ax.set(ylabel = \"Predicted Phi (degree)\", xlabel = \"Actual Phi (degree)\")\n",
    "fig.patch.set_facecolor(\"White\")\n",
    "#ax.tick_params(length = 4, width = 2)\n",
    "#fig.savefig(\"ANN_test.jpg\", dpi = 600, transparent=True, bbox_inches=\"tight\")\"\"\""
   ]
  },
  {
   "cell_type": "code",
   "execution_count": 31,
   "metadata": {},
   "outputs": [
    {
     "data": {
      "text/plain": [
       "'fig, ax = plt.subplots()\\nfig.set_size_inches(3.6, 2.5)\\n\\nax.scatter(df[\"y_tr\"], df[\"ANN_train\"], c = \"k\")\\nplt.plot(df[\"y_tr\"], df[\"y_tr\"], c = \"k\", linewidth = 2)\\nax.set(ylabel = \"Predicted Phi (degree)\", xlabel = \"Actual Phi (degree)\")\\nfig.patch.set_facecolor(\"White\")\\n#ax.tick_params(length = 4, width = 2)\\n#fig.savefig(\"ANN_train.jpg\", dpi = 600, transparent=True, bbox_inches=\"tight\")'"
      ]
     },
     "execution_count": 31,
     "metadata": {},
     "output_type": "execute_result"
    }
   ],
   "source": [
    "\"\"\"fig, ax = plt.subplots()\n",
    "fig.set_size_inches(3.6, 2.5)\n",
    "\n",
    "ax.scatter(df[\"y_tr\"], df[\"ANN_train\"], c = \"k\")\n",
    "plt.plot(df[\"y_tr\"], df[\"y_tr\"], c = \"k\", linewidth = 2)\n",
    "ax.set(ylabel = \"Predicted Phi (degree)\", xlabel = \"Actual Phi (degree)\")\n",
    "fig.patch.set_facecolor(\"White\")\n",
    "#ax.tick_params(length = 4, width = 2)\n",
    "#fig.savefig(\"ANN_train.jpg\", dpi = 600, transparent=True, bbox_inches=\"tight\")\"\"\""
   ]
  },
  {
   "cell_type": "code",
   "execution_count": 32,
   "metadata": {},
   "outputs": [
    {
     "data": {
      "text/plain": [
       "'fig, ax = plt.subplots()\\nfig.set_size_inches(3.6, 2.5)\\n\\nax.scatter(df[\"y_tr\"], df[\"SVR_rbf_train\"], c = \"k\")\\nplt.plot(df[\"y_tr\"], df[\"y_tr\"], c = \"k\", linewidth = 2)\\nax.set(ylabel = \"Predicted Phi (degree)\", xlabel = \"Actual Phi (degree)\")\\nfig.patch.set_facecolor(\"White\")\\n#ax.tick_params(length = 4, width = 2)\\n#fig.savefig(\"SVR_rbf_train.jpg\", dpi = 600, transparent=True, bbox_inches=\"tight\")'"
      ]
     },
     "execution_count": 32,
     "metadata": {},
     "output_type": "execute_result"
    }
   ],
   "source": [
    "\"\"\"fig, ax = plt.subplots()\n",
    "fig.set_size_inches(3.6, 2.5)\n",
    "\n",
    "ax.scatter(df[\"y_tr\"], df[\"SVR_rbf_train\"], c = \"k\")\n",
    "plt.plot(df[\"y_tr\"], df[\"y_tr\"], c = \"k\", linewidth = 2)\n",
    "ax.set(ylabel = \"Predicted Phi (degree)\", xlabel = \"Actual Phi (degree)\")\n",
    "fig.patch.set_facecolor(\"White\")\n",
    "#ax.tick_params(length = 4, width = 2)\n",
    "#fig.savefig(\"SVR_rbf_train.jpg\", dpi = 600, transparent=True, bbox_inches=\"tight\")\"\"\""
   ]
  },
  {
   "cell_type": "code",
   "execution_count": 33,
   "metadata": {},
   "outputs": [
    {
     "data": {
      "text/plain": [
       "'fig, ax = plt.subplots()\\nfig.set_size_inches(3.6, 2.5)\\n\\nax.scatter(df[\"y_tr\"], df[\"SVR_lin_train\"], c = \"k\")\\nplt.plot(df[\"y_tr\"], df[\"y_tr\"], c = \"k\", linewidth = 2)\\nax.set(ylabel = \"Predicted Phi (degree)\", xlabel = \"Actual Phi (degree)\")\\nfig.patch.set_facecolor(\"White\")\\n#ax.tick_params(length = 4, width = 2)\\n#fig.savefig(\"SVR_lin_train.jpg\", dpi = 600, transparent=True, bbox_inches=\"tight\")'"
      ]
     },
     "execution_count": 33,
     "metadata": {},
     "output_type": "execute_result"
    }
   ],
   "source": [
    "\"\"\"fig, ax = plt.subplots()\n",
    "fig.set_size_inches(3.6, 2.5)\n",
    "\n",
    "ax.scatter(df[\"y_tr\"], df[\"SVR_lin_train\"], c = \"k\")\n",
    "plt.plot(df[\"y_tr\"], df[\"y_tr\"], c = \"k\", linewidth = 2)\n",
    "ax.set(ylabel = \"Predicted Phi (degree)\", xlabel = \"Actual Phi (degree)\")\n",
    "fig.patch.set_facecolor(\"White\")\n",
    "#ax.tick_params(length = 4, width = 2)\n",
    "#fig.savefig(\"SVR_lin_train.jpg\", dpi = 600, transparent=True, bbox_inches=\"tight\")\"\"\""
   ]
  },
  {
   "cell_type": "code",
   "execution_count": 34,
   "metadata": {},
   "outputs": [
    {
     "data": {
      "text/plain": [
       "'fig, ax = plt.subplots()\\nfig.set_size_inches(3.6, 2.5)\\n\\nax.scatter(df[\"Testing\"], df[\"SVR_rbf\"], c = \"k\")\\nplt.plot(df[\"Testing\"], df[\"Testing\"], c = \"k\", linewidth = 2)\\nax.set(ylabel = \"Predicted Phi (degree)\", xlabel = \"Actual Phi (degree)\")\\nfig.patch.set_facecolor(\"White\")\\n#ax.tick_params(length = 4, width = 2)\\n#fig.savefig(\"SVR_rbf_test.jpg\", dpi = 600, transparent=True, bbox_inches=\"tight\")'"
      ]
     },
     "execution_count": 34,
     "metadata": {},
     "output_type": "execute_result"
    }
   ],
   "source": [
    "\"\"\"fig, ax = plt.subplots()\n",
    "fig.set_size_inches(3.6, 2.5)\n",
    "\n",
    "ax.scatter(df[\"Testing\"], df[\"SVR_rbf\"], c = \"k\")\n",
    "plt.plot(df[\"Testing\"], df[\"Testing\"], c = \"k\", linewidth = 2)\n",
    "ax.set(ylabel = \"Predicted Phi (degree)\", xlabel = \"Actual Phi (degree)\")\n",
    "fig.patch.set_facecolor(\"White\")\n",
    "#ax.tick_params(length = 4, width = 2)\n",
    "#fig.savefig(\"SVR_rbf_test.jpg\", dpi = 600, transparent=True, bbox_inches=\"tight\")\"\"\""
   ]
  },
  {
   "cell_type": "code",
   "execution_count": 35,
   "metadata": {},
   "outputs": [
    {
     "data": {
      "text/plain": [
       "'fig, ax = plt.subplots()\\nfig.set_size_inches(3.6, 2.5)\\n\\nax.scatter(df[\"Testing\"], df[\"SVR_lin\"], c = \"k\")\\nplt.plot(df[\"Testing\"], df[\"Testing\"], c = \"k\", linewidth = 2)\\nax.set(ylabel = \"Predicted Phi (degree)\", xlabel = \"Actual Phi (degree)\")\\nfig.patch.set_facecolor(\"White\")\\n#ax.tick_params(length = 4, width = 2)\\n#fig.savefig(\"SVR_lin_test.jpg\", dpi = 600, transparent=True, bbox_inches=\"tight\")'"
      ]
     },
     "execution_count": 35,
     "metadata": {},
     "output_type": "execute_result"
    }
   ],
   "source": [
    "\"\"\"fig, ax = plt.subplots()\n",
    "fig.set_size_inches(3.6, 2.5)\n",
    "\n",
    "ax.scatter(df[\"Testing\"], df[\"SVR_lin\"], c = \"k\")\n",
    "plt.plot(df[\"Testing\"], df[\"Testing\"], c = \"k\", linewidth = 2)\n",
    "ax.set(ylabel = \"Predicted Phi (degree)\", xlabel = \"Actual Phi (degree)\")\n",
    "fig.patch.set_facecolor(\"White\")\n",
    "#ax.tick_params(length = 4, width = 2)\n",
    "#fig.savefig(\"SVR_lin_test.jpg\", dpi = 600, transparent=True, bbox_inches=\"tight\")\"\"\""
   ]
  },
  {
   "cell_type": "code",
   "execution_count": null,
   "metadata": {},
   "outputs": [],
   "source": []
  }
 ],
 "metadata": {
  "kernelspec": {
   "display_name": "Python 3",
   "language": "python",
   "name": "python3"
  },
  "language_info": {
   "codemirror_mode": {
    "name": "ipython",
    "version": 3
   },
   "file_extension": ".py",
   "mimetype": "text/x-python",
   "name": "python",
   "nbconvert_exporter": "python",
   "pygments_lexer": "ipython3",
   "version": "3.7.6"
  }
 },
 "nbformat": 4,
 "nbformat_minor": 4
}
